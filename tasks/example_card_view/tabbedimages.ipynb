{
 "cells": [
  {
   "cell_type": "code",
   "execution_count": null,
   "metadata": {},
   "outputs": [],
   "source": [
    "%%javascript\n",
    "\n",
    "var script = document.createElement('script');\n",
    "script.type = 'text/javascript';\n",
    "script.src = '//code.jquery.com/jquery-3.3.1.min.js';\n",
    "document.head.appendChild(script);\n",
    "\n",
    "function updateVisibleCard(id_prefix) {\n",
    "    $(\".\"+id_prefix).hide()\n",
    "    $(\"#\"+$(\"#\"+id_prefix+\"-select\").children(\"option:selected\").val()).show()\n",
    "}\n",
    "\n",
    "console.log(window)\n",
    "window.updateVisibleCard = updateVisibleCard\n"
   ]
  },
  {
   "cell_type": "code",
   "execution_count": null,
   "metadata": {},
   "outputs": [],
   "source": [
    "import IPython\n",
    "from IPython.display import Image\n",
    "\n",
    "images = [Image(filename=\"{}.png\".format(i+1)) for i in range(3)]"
   ]
  },
  {
   "cell_type": "code",
   "execution_count": null,
   "metadata": {},
   "outputs": [],
   "source": [
    "import IPython\n",
    "from IPython import get_ipython\n",
    "def _get_html(obj):\n",
    "    \"\"\"Get the HTML representation of an object\"\"\"\n",
    "    # TODO: use displaypub to make this more general\n",
    "    ip = get_ipython()\n",
    "    png_rep = ip.display_formatter.formatters['image/png'](obj)\n",
    "\n",
    "    if png_rep is not None:\n",
    "        #if isinstance(obj, plt.Figure):\n",
    "        #    plt.close(obj)  # keep from displaying twice\n",
    "        return ('<img src=\"data:image/png;'\n",
    "                'base64,{0}\">'.format(png_rep))\n",
    "    else:\n",
    "        return \"<p> {0} </p>\".format(str(obj))\n",
    "\n",
    "    rep = ip.display_formatter.formatters['text/html'](obj)\n",
    "\n",
    "    if rep is not None:\n",
    "        return rep\n",
    "    elif hasattr(obj, '_repr_html_'):\n",
    "        return obj._repr_html_()\n"
   ]
  },
  {
   "cell_type": "code",
   "execution_count": null,
   "metadata": {},
   "outputs": [],
   "source": [
    "import random\n",
    "import string\n",
    "\n",
    "def random_id(n):\n",
    "    return ''.join([random.choice(string.ascii_uppercase+string.ascii_lowercase) for _ in range(n)])\n",
    "\n",
    "def _select_html(id_prefix, labels):\n",
    "    select_tmpl = \"<select id=\\\"{id_prefix}-select\\\" onchange=\\\"updateVisibleCard('{id_prefix}')\\\">{options}</select>\"\n",
    "    option_tmpl = \"<option value=\\\"{id_prefix}-{i}\\\" {selected}>{label}</option>\"\n",
    "    options = \"\".join([option_tmpl.format(selected={True: \"selected\", False: \"\"}[i == 0],\n",
    "                                          i=i, label=label, id_prefix=id_prefix) for i, label in enumerate(labels)])\n",
    "    return select_tmpl.format(**locals())\n",
    "\n",
    "def _cards_html(id_prefix, images):\n",
    "    div_tmpl = \"<div class=\\\"{id_prefix}\\\" id=\\\"{id_prefix}-{i}\\\" {style}>{inner_html}</div>\"\n",
    "    img_divs = [div_tmpl.format(inner_html=_get_html(image), \n",
    "                                style={False: \"style=\\\"display: none\\\"\", True: \"\"}[i == 0],\n",
    "                                id_prefix=id_prefix, \n",
    "                                i=i) for i, image in enumerate(images)]\n",
    "    return \"\".join(img_divs)\n",
    "\n",
    "def _select_card_html(labels, images):\n",
    "    assert len(labels) == len(images)\n",
    "    id_prefix = random_id(8)\n",
    "    select_html = _select_html(id_prefix, labels)\n",
    "    cards_html = _cards_html(id_prefix, images)\n",
    "    return select_html + cards_html\n",
    "\n",
    "def display_card_view(labels, images):\n",
    "    return IPython.display.HTML(_select_card_html(labels, images))\n",
    "    \n",
    "#IPython.display.HTML(\"\"\"\n",
    "#<select id=\"zzz-select\">\n",
    "#<option value=\"zzz-1\" selected>google</option>\n",
    "#<option value=\"zzz-2\">bird</option>\n",
    "#</select>\n",
    "#<div style='background-color:red; width: 100px'>aaa<div class='zzz' id='zzz-1'>\"\"\"\n",
    "#                     +_get_html(i1)+\"</div><div class='zzz' id='zzz-2' style='display: none'>\"+_get_html(i2)+\"</div>\")"
   ]
  },
  {
   "cell_type": "code",
   "execution_count": null,
   "metadata": {},
   "outputs": [],
   "source": [
    "display_card_view([\"image-1\", \"image-2\", \"image-3\"], images)"
   ]
  },
  {
   "cell_type": "code",
   "execution_count": null,
   "metadata": {},
   "outputs": [],
   "source": []
  }
 ],
 "metadata": {
  "kernelspec": {
   "display_name": "Python 3",
   "language": "python",
   "name": "python3"
  },
  "language_info": {
   "codemirror_mode": {
    "name": "ipython",
    "version": 3
   },
   "file_extension": ".py",
   "mimetype": "text/x-python",
   "name": "python",
   "nbconvert_exporter": "python",
   "pygments_lexer": "ipython3",
   "version": "3.7.4"
  }
 },
 "nbformat": 4,
 "nbformat_minor": 4
}
