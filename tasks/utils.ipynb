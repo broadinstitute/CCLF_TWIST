{
 "cells": [
  {
   "cell_type": "markdown",
   "metadata": {},
   "source": [
    "# Delete metadata in PANCAN_TWIST_Dev"
   ]
  },
  {
   "cell_type": "code",
   "execution_count": null,
   "metadata": {},
   "outputs": [],
   "source": [
    "from firecloud_sugar import *\n",
    "import warnings\n",
    "import glob\n",
    "import numpy as np\n",
    "import dalmatian as dog\n",
    "import pandas as pd\n",
    "warnings.filterwarnings('ignore')\n",
    "%load_ext autoreload\n",
    "%autoreload 2"
   ]
  },
  {
   "cell_type": "code",
   "execution_count": null,
   "metadata": {},
   "outputs": [],
   "source": [
    "namespace = \"nci-mimoun-bi-org\"\n",
    "workspace = \"PANCAN_TWIST_Dev\"\n",
    "\n",
    "namespace_gp = \"broad-genomics-delivery\"\n",
    "workspace_gp = \"Cancer_Cell_Line_Factory_CCLF_PanCancer_PanelSeq\""
   ]
  },
  {
   "cell_type": "code",
   "execution_count": null,
   "metadata": {},
   "outputs": [],
   "source": [
    "wm: dog.WorkspaceManager\n",
    "wm = dog.WorkspaceManager(namespace,workspace)\n",
    "\n",
    "wm_gp: dog.WorkspaceManager\n",
    "wm_gp = dog.WorkspaceManager(namespace_gp, workspace_gp)"
   ]
  },
  {
   "cell_type": "code",
   "execution_count": null,
   "metadata": {},
   "outputs": [],
   "source": [
    "# Delete all sample_sets\n",
    "all_sample_sets = wm.get_sample_sets()\n",
    "[wm.delete_sample_set(sample_set_index) for sample_set_index in all_sample_sets.index]"
   ]
  },
  {
   "cell_type": "code",
   "execution_count": null,
   "metadata": {},
   "outputs": [],
   "source": [
    "# Delete all samples\n",
    "all_samples = wm.get_samples()\n",
    "[wm.delete_sample(sample_index) for sample_index in all_samples.index]"
   ]
  },
  {
   "cell_type": "code",
   "execution_count": null,
   "metadata": {},
   "outputs": [],
   "source": [
    "# Delete all the participants\n",
    "all_participants = wm.get_participants()\n",
    "[wm.delete_participant(participant_index) for participant_index in all_participants.index]"
   ]
  },
  {
   "cell_type": "code",
   "execution_count": null,
   "metadata": {},
   "outputs": [],
   "source": [
    "# Upload participant metadata\n",
    "twist2_external = pd.read_excel(\"twist_external_sample_ids/TWIST2_External_Sample_ID.xlsx\")\n",
    "collaborator_participant_id = twist2_external['Collaborator Participant ID']"
   ]
  },
  {
   "cell_type": "code",
   "execution_count": null,
   "metadata": {},
   "outputs": [],
   "source": [
    "unique_participant_ids = collaborator_participant_id.unique()\n",
    "#unique_participant_ids = np.insert(unique_participant_ids, 0, 'entity:participant_id')\n",
    "unique_participant_ids"
   ]
  },
  {
   "cell_type": "code",
   "execution_count": null,
   "metadata": {},
   "outputs": [],
   "source": [
    "# unique_participant_fc = pd.DataFrame(unique_participant_ids)\n",
    "wm.upload_participants(unique_participant_ids)"
   ]
  },
  {
   "cell_type": "code",
   "execution_count": null,
   "metadata": {},
   "outputs": [],
   "source": [
    "# Get sample set Twist 2\n",
    "gp_sample_sets = wm_gp.get_sample_sets()\n",
    "twist2_gp_sample_sets = gp_sample_sets[gp_sample_sets.index == 'CCLF_TWIST2']"
   ]
  },
  {
   "cell_type": "code",
   "execution_count": null,
   "metadata": {},
   "outputs": [],
   "source": [
    "all_twist2_samples = twist2_gp_sample_sets['samples'].values[0]"
   ]
  },
  {
   "cell_type": "code",
   "execution_count": null,
   "metadata": {},
   "outputs": [],
   "source": [
    "# Get all samples\n",
    "gp_samples = wm_gp.get_samples()"
   ]
  },
  {
   "cell_type": "code",
   "execution_count": null,
   "metadata": {},
   "outputs": [],
   "source": [
    "only_twist2_samples = gp_samples[gp_samples.index.isin(all_twist2_samples)]"
   ]
  },
  {
   "cell_type": "code",
   "execution_count": null,
   "metadata": {},
   "outputs": [],
   "source": [
    "only_twist2_samples.index.values[1:]"
   ]
  },
  {
   "cell_type": "code",
   "execution_count": null,
   "metadata": {},
   "outputs": [],
   "source": [
    "# Extract SM-IDS from sample_ids\n",
    "import re\n",
    "only_twist2_samples.index\n",
    "\n",
    "gp_ids = only_twist2_samples.index.values\n",
    "\n",
    "for gp_id in only_twist2_samples.index.values[1:]:\n",
    "    \n",
    "    search_sm_id = re.search('(SM-[^_]*)_', gp_id)\n",
    "    current_sm_id = search_sm_id.group(1)\n",
    "    \n",
    "    only_twist2_samples.at[gp_id, 'sm_id'] = current_sm_id\n",
    "\n",
    "ctrl_series = twist2_external[twist2_external['Parent Sample ID'] == 'Ctrl']\n",
    "ctrl_sm_id = ctrl_series['Exported DNA SM-ID']\n",
    "\n",
    "\n",
    "\n",
    "\n",
    "\n",
    "#newlist = list(filter(r.match, mylist))\n",
    "#sm_ids = re.match('')\n",
    "\n",
    "# For the NA ctrl, fetch the SM-ID in the external sheet (Twist 2 in this case)"
   ]
  },
  {
   "cell_type": "code",
   "execution_count": null,
   "metadata": {},
   "outputs": [],
   "source": [
    "only_twist2_samples.iloc[0, 'sm_id'] = ctrl_sm_id.iloc[0]"
   ]
  },
  {
   "cell_type": "code",
   "execution_count": null,
   "metadata": {},
   "outputs": [],
   "source": [
    "only_twist2_samples.ix[0, 'sm_id'] = ctrl_sm_id.iloc[0]"
   ]
  },
  {
   "cell_type": "code",
   "execution_count": null,
   "metadata": {},
   "outputs": [],
   "source": [
    "only_twist2_samples"
   ]
  },
  {
   "cell_type": "code",
   "execution_count": null,
   "metadata": {},
   "outputs": [],
   "source": [
    "only_twist2_samples.iloc[0]"
   ]
  }
 ],
 "metadata": {
  "kernelspec": {
   "display_name": "Python 3",
   "language": "python",
   "name": "python3"
  },
  "language_info": {
   "codemirror_mode": {
    "name": "ipython",
    "version": 3
   },
   "file_extension": ".py",
   "mimetype": "text/x-python",
   "name": "python",
   "nbconvert_exporter": "python",
   "pygments_lexer": "ipython3",
   "version": "3.6.7"
  },
  "latex_envs": {
   "LaTeX_envs_menu_present": true,
   "autoclose": false,
   "autocomplete": true,
   "bibliofile": "biblio.bib",
   "cite_by": "apalike",
   "current_citInitial": 1,
   "eqLabelWithNumbers": true,
   "eqNumInitial": 1,
   "hotkeys": {
    "equation": "Ctrl-E",
    "itemize": "Ctrl-I"
   },
   "labels_anchors": false,
   "latex_user_defs": false,
   "report_style_numbering": false,
   "user_envs_cfg": false
  },
  "toc": {
   "base_numbering": 1,
   "nav_menu": {},
   "number_sections": false,
   "sideBar": false,
   "skip_h1_title": false,
   "title_cell": "Table of Contents",
   "title_sidebar": "Contents",
   "toc_cell": false,
   "toc_position": {},
   "toc_section_display": false,
   "toc_window_display": false
  },
  "varInspector": {
   "cols": {
    "lenName": 16,
    "lenType": 16,
    "lenVar": 40
   },
   "kernels_config": {
    "python": {
     "delete_cmd_postfix": "",
     "delete_cmd_prefix": "del ",
     "library": "var_list.py",
     "varRefreshCmd": "print(var_dic_list())"
    },
    "r": {
     "delete_cmd_postfix": ") ",
     "delete_cmd_prefix": "rm(",
     "library": "var_list.r",
     "varRefreshCmd": "cat(var_dic_list()) "
    }
   },
   "types_to_exclude": [
    "module",
    "function",
    "builtin_function_or_method",
    "instance",
    "_Feature"
   ],
   "window_display": false
  }
 },
 "nbformat": 4,
 "nbformat_minor": 4
}
