{
 "cells": [
  {
   "cell_type": "code",
   "execution_count": null,
   "metadata": {},
   "outputs": [],
   "source": [
    "from __future__ import print_function\n",
    "import os.path\n",
    "# import os\n",
    "import dalmatian as dm\n",
    "import pandas as pd\n",
    "import numpy as np\n",
    "import sys\n",
    "sys.path.insert(0, '../../JKBio/')\n",
    "import TerraFunction as terra\n",
    "import CCLF_processing\n",
    "%load_ext autoreload\n",
    "%autoreload 2\n",
    "%load_ext rpy2.ipython\n",
    "from IPython.display import Image, display, HTML\n",
    "import ipdb"
   ]
  },
  {
   "cell_type": "code",
   "execution_count": null,
   "metadata": {},
   "outputs": [],
   "source": [
    "import qgrid # interactive tables\n",
    "import ipywidgets as widgets\n",
    "from ipywidgets import interact, interact_manual\n",
    "import gcsfs # to be able to read in files from GCS in Python\n",
    "import re # used for regex\n",
    "\n",
    "# # Extra options\n",
    "# pd.options.display.max_rows = 30\n",
    "# pd.options.display.max_columns = 25\n",
    "qgrid.set_grid_option('maxVisibleRows', 10)\n",
    "\n",
    "# # Show all code cells outputs\n",
    "# from IPython.core.interactiveshell import InteractiveShell\n",
    "# InteractiveShell.ast_node_interactivity = 'all'"
   ]
  },
  {
   "cell_type": "code",
   "execution_count": null,
   "metadata": {},
   "outputs": [],
   "source": [
    "cwd = os.getcwd()\n",
    "print(cwd)"
   ]
  },
  {
   "cell_type": "markdown",
   "metadata": {},
   "source": [
    "***\n",
    "***"
   ]
  },
  {
   "cell_type": "markdown",
   "metadata": {},
   "source": [
    "# Pretty report generation\n",
    "After grabbing and making all of the files we want for a given participant (e.g. PEDS182), we want to make a pretty, interactive report. This will be similar to a README except that we will directly embed tables and images. This involves using Jupyter widgets to create dropdown menus and the like. Here are the main functionalities I'd like:\n",
    "\n",
    "1. kable-like tables that are interactive: sorting, filtering, typing in text or numbers to search, (ability to download sorted/filtered table as a CSV?)\n",
    "2. ability to quickly go to any image in the directory. I want this so that the user can quickly look through the copy number maps (horizontal plots). Ideally, I'd like to be able to select which one(s) I'd like to view. This could be useful if they want to see two or more at once (i.e. to compare two treatment conditions).\n",
    "\n",
    "## Automate generation of separate Jupyter notebook for each participant\n",
    "To do this, we will use Papermill. Papermill automates notebook to notebook generation, and also executes the generated notebook. We may also want to convert the generated notebook to HTML. We can use *nbconvert* for this operation (see https://github.com/jupyter/nbconvert)."
   ]
  },
  {
   "cell_type": "markdown",
   "metadata": {},
   "source": [
    "## Note: I may want to show the conversion between gs:// and https://console.cloud.google.com/storage/browser/ so that people who are not comfortable with using terminal will be able to easily browse and download the data in the Google bucket. I just need to make sure we won't have privacy issues (we shouldn't, right?)"
   ]
  },
  {
   "cell_type": "code",
   "execution_count": null,
   "metadata": {},
   "outputs": [],
   "source": [
    "# path would be the participant-specific path OR the path to the directory for the full analysis\n",
    "path = \"gs://cclf_results/targeted/neekesh_201912/\" \n",
    "# a list of file paths for the selected participant\n",
    "filepaths = ! gsutil ls -r {path}**\n",
    "\n",
    "# get all the tables in the bucket\n",
    "table_filepaths = ! gsutil ls -r {path}*.txt # check: will this search recursively for all .txt files?\n",
    "to_add = ! gsutil ls -r {path}**.tsv\n",
    "table_filepaths += to_add\n",
    "# get all the pngs in the bucket\n",
    "img_filepaths = ! gsutil ls -r {path}**.png\n",
    "\n",
    "# copy all the pngs in the bucket to a tmp folder\n",
    "# TODO: need to delete the files afterwards\n",
    "tempdir='../temp/cclfreport/images/'\n",
    "! gsutil cp -r {path}**.png {tempdir} # copy images from google bucket to local temp folder\n",
    "# local_img_filepaths = ! ls {tempdir}*.png\n",
    "local_img_filepaths = ['../temp/cclfreport/images/'+os.path.basename(i) for i in img_filepaths]\n",
    "print(local_img_filepaths)\n",
    "os.chdir(tempdir)\n",
    "# local_img_file_names = ! ls **.png # list of all pngs in tempdir\n",
    "local_img_file_names = [os.path.basename(i) for i in local_img_filepaths]\n",
    "os.chdir(cwd)"
   ]
  },
  {
   "cell_type": "code",
   "execution_count": null,
   "metadata": {},
   "outputs": [],
   "source": [
    "# TO DELETE\n",
    "# these should match up\n",
    "display(local_img_filepaths[:5])\n",
    "display(local_img_file_names[:5])"
   ]
  },
  {
   "cell_type": "code",
   "execution_count": null,
   "metadata": {},
   "outputs": [],
   "source": [
    "def make_interactive_table(filepath, cols_to_include = None): # assuming single filepath\n",
    "    if type(filepath) != str:\n",
    "        raise Exception(\"The function expected a str filepath as input, but got: \", str(type(filepath)))\n",
    "#     print(\"Table: \"+filepath)\n",
    "    data = pd.read_csv(filepath, sep='\\t')\n",
    "    index_name = data.columns.tolist()[0]\n",
    "    data.set_index(index_name, inplace=True, drop=True)\n",
    "    if cols_to_include is not None:\n",
    "        # subset the data\n",
    "        data = data[cols_to_include]\n",
    "        if 'keep' in cols_to_include:\n",
    "            data = data.loc[data['keep'] == True]\n",
    "    qgrid_widget = qgrid.show_grid(data, show_toolbar=False, grid_options = {'forceFitColumns': False,\n",
    "    'defaultColumnWidth': 150})\n",
    "    display(qgrid_widget)\n",
    "    print(\"\\n\")\n",
    "    \n",
    "def make_interactive_table_orig(filepath, cols_to_include = None): # assuming single filepath\n",
    "    if type(filepath) != str:\n",
    "        raise Exception(\"The function expected a str filepath as input, but got: \", str(type(filepath)))\n",
    "#     print(\"Table: \"+filepath)\n",
    "    data = pd.read_csv(filepath, sep='\\t')\n",
    "    if cols_to_include is not None:\n",
    "        # subset the data\n",
    "        data = data[cols_to_include]\n",
    "        if 'keep' in cols_to_include:\n",
    "            data = data.loc[data['keep'] == True]\n",
    "    qgrid_widget = qgrid.show_grid(data, show_toolbar=False, grid_options = {'forceFitColumns': False,\n",
    "    'defaultColumnWidth': 150})\n",
    "    display(qgrid_widget)\n",
    "    print(\"\\n\")\n",
    "    \n",
    "# def tmp(filepaths): # assuming single filepath\n",
    "#     for filepath in filepaths:\n",
    "#         print(\"Table: \"+filepath)\n",
    "#         data = pd.read_csv(filepath, sep='\\t')\n",
    "#         qgrid_widget = qgrid.show_grid(data, show_toolbar=False, grid_options = {'forceFitColumns': False,\n",
    "#         'defaultColumnWidth': 150})\n",
    "#         display(qgrid_widget)\n",
    "#         print(\"\\n\")"
   ]
  },
  {
   "cell_type": "markdown",
   "metadata": {},
   "source": [
    "# Sample information and identifiers\n",
    "This section details the external IDs for all the samples we discovered when searching the existing targeted probe data and WES data."
   ]
  },
  {
   "cell_type": "code",
   "execution_count": null,
   "metadata": {},
   "outputs": [],
   "source": [
    "all_external_ids = ! gsutil ls -r {path}**all_external_ids.tsv\n",
    "all_failed_external_ids = ! gsutil ls -r {path}**all_failed_external_ids.tsv\n",
    "# check: should I make them interactive??"
   ]
  },
  {
   "cell_type": "markdown",
   "metadata": {},
   "source": [
    "## Table: all external IDs & associated metadata\n",
    "The below table is sortable and filterable. You can double-click on the cells in the table if you want to copy the contents, like if you wanted to copy the link to the file in the Google storage console."
   ]
  },
  {
   "cell_type": "code",
   "execution_count": null,
   "metadata": {},
   "outputs": [],
   "source": [
    "# instead of interactive for each participant, might be nice to combine all into one and add a column for the participant ID. This makes for less waiting and clicking overall.\n",
    "\n",
    "df1 = pd.read_csv(all_external_ids[0], sep='\\t')\n",
    "df1['participant'] = str(os.path.basename(os.path.dirname(all_external_ids[0])))\n",
    "df1['disease'] = str(os.path.basename(os.path.dirname(os.path.dirname(all_external_ids[0]))))\n",
    "df1['filepath'] = str(os.path.dirname(all_external_ids[0]))\n",
    "df1['link'] = str(re.sub('gs://', 'https://console.cloud.google.com/storage/browser/', os.path.dirname(all_external_ids[0])))\n",
    "for filepath in all_external_ids[1:]:\n",
    "    df2 = pd.read_csv(filepath, sep='\\t')\n",
    "    df2['participant'] = str(os.path.basename(os.path.dirname(filepath)))\n",
    "    df2['disease'] = str(os.path.basename(os.path.dirname(os.path.dirname(filepath))))\n",
    "    df2['filepath'] = str(os.path.dirname(filepath))\n",
    "    df2['link'] = str(re.sub('gs://', 'https://console.cloud.google.com/storage/browser/', os.path.dirname(filepath)))\n",
    "    df1 = pd.concat([df1, df2], ignore_index=True)\n",
    "df1.set_index('participant', drop=True, inplace=True)\n",
    "\n",
    "# print some summary information\n",
    "print(\"We found a total of\", df1.shape[0],\"external IDs that passed the depth of coverage QC.\")\n",
    "\n",
    "# allow for filtering\n",
    "qgrid_widget = qgrid.show_grid(df1, show_toolbar=False, grid_options = {'forceFitColumns': False})\n",
    "display(qgrid_widget)"
   ]
  },
  {
   "cell_type": "markdown",
   "metadata": {},
   "source": [
    "## Samples that failed the depth of coverage QC\n",
    "This summary details all the the external IDs of each sample that failed the depth of coverage QC in the targeted probe pipeline. The depth of coverage QC in the targeted probe pipeline requires that the average gene-level or interval-level coverage is >=50x. \n",
    "\n",
    "The summary also lists the participants for which no samples failed the depth of coverage QC."
   ]
  },
  {
   "cell_type": "code",
   "execution_count": null,
   "metadata": {},
   "outputs": [],
   "source": [
    "no_failed = []\n",
    "for filepath in all_failed_external_ids:\n",
    "    tmp_df = pd.read_csv(filepath, sep='\\t')\n",
    "    participant_name = str(os.path.basename(os.path.dirname(filepath)))\n",
    "    if tmp_df.shape[0] ==1:\n",
    "        print(\"There was\", str(tmp_df.shape[0]), \"failed sample for participant\", participant_name,\":\")\n",
    "        display(sorted(tmp_df.iloc[:,0].tolist()))\n",
    "    elif tmp_df.shape[0] >1:\n",
    "        print(\"There were\", str(tmp_df.shape[0]), \"failed samples for participant\", participant_name)\n",
    "    else:\n",
    "        no_failed += [participant_name]\n",
    "print(\"There were no failed samples for participant(s):\")\n",
    "display(sorted(no_failed))"
   ]
  },
  {
   "cell_type": "markdown",
   "metadata": {},
   "source": [
    "# Copy number data"
   ]
  },
  {
   "cell_type": "markdown",
   "metadata": {},
   "source": [
    "## Copy number heat maps\n",
    "There are two plots in this section, one for CN data from the targeted probe data and a second for CN data from WES data. To look at any one sample in more detail, you can look either at the corresponding horizontal CN plot in the next section titled \"Copy number horizontal plots\" or look at the CN table (see either the tables below or the TSV available at the link specified in the \"Sample information and identifiers\" section.\n",
    "\n",
    "These tables are searchable and filterable."
   ]
  },
  {
   "cell_type": "markdown",
   "metadata": {},
   "source": [
    "### Targeted CN heat map"
   ]
  },
  {
   "cell_type": "code",
   "execution_count": null,
   "metadata": {},
   "outputs": [],
   "source": [
    "# create a heat map specific to the samples requested (either per participant basis or per list of participants) using the plotSomaticCNV workflow in Terra\n",
    "# Steps: create a new sample set with the appropriate samples, submit a new job, wait for it to finish, copy the picture to the temp dir (and add it to the list of local files), then display it here"
   ]
  },
  {
   "cell_type": "code",
   "execution_count": null,
   "metadata": {},
   "outputs": [],
   "source": []
  },
  {
   "cell_type": "markdown",
   "metadata": {},
   "source": [
    "### WES CN heat map"
   ]
  },
  {
   "cell_type": "code",
   "execution_count": null,
   "metadata": {},
   "outputs": [],
   "source": [
    "# what's the best way to create a CN heat map for the WES samples? create just using the segmented CN tsv I pull in from Terra? create new workflow?"
   ]
  },
  {
   "cell_type": "markdown",
   "metadata": {},
   "source": [
    "## Copy number horizontal plots"
   ]
  },
  {
   "cell_type": "markdown",
   "metadata": {},
   "source": [
    "Select the copy number plot you would like to display from the dropdown menu. The dropdown menu includes CN plots from both targeted probe (TSCA and TWIST) and WES data. The source of the data will be displayed on the title of the image. You can also refer to the table of all external IDs that maps each external ID to the source of the data (see \"Sample information and identifiers\").\n",
    "\n",
    "The dropdown menu also includes merged copy number maps for each participant. This PNG file contains all the horizontal CN plots for a given participant in a single place for ease of quick comparison.\n",
    "\n",
    "**check:** can I add a linked reference to this table so that they can quickly jump there? Might be best to just make it it's own section so that it shows up in the TOC.\n",
    "\n",
    "<!-- Note that to get nice dropdown menu names, I'm changing directories for now. There's probably a better way to do this. -->"
   ]
  },
  {
   "cell_type": "code",
   "execution_count": null,
   "metadata": {},
   "outputs": [],
   "source": [
    "os.chdir(tempdir)"
   ]
  },
  {
   "cell_type": "code",
   "execution_count": null,
   "metadata": {},
   "outputs": [],
   "source": [
    "# TODO: this isn't the most helpful format / layout currently. Make it possible to select by WES vs Targeted, and select by participant as well. I don't currently know how to do this.\n",
    "# select image to display from dropdown menu    \n",
    "@interact\n",
    "def show_images(file=local_img_file_names):\n",
    "    print(\"File name:\", file)\n",
    "    display(Image(file))"
   ]
  },
  {
   "cell_type": "code",
   "execution_count": null,
   "metadata": {},
   "outputs": [],
   "source": [
    "## must change back to the main directory\n",
    "os.chdir(cwd)"
   ]
  },
  {
   "cell_type": "code",
   "execution_count": null,
   "metadata": {},
   "outputs": [],
   "source": [
    "# get the CN tables from the Google storage bucket\n",
    "tsca_cn = ! gsutil ls -r {path}**copy_number.tsv\n",
    "wes_cn = ! gsutil ls -r {path}**wes_copy_number.tsv"
   ]
  },
  {
   "cell_type": "markdown",
   "metadata": {},
   "source": [
    "## Targeted CN table\n",
    "Select from the dropdown menu to get the targeted CN table for each participant."
   ]
  },
  {
   "cell_type": "code",
   "execution_count": null,
   "metadata": {},
   "outputs": [],
   "source": [
    "# this code allows for the display of interactive tables with a dropdown menu to switch between participants\n",
    "@interact\n",
    "def show_tables(file=tsca_cn):\n",
    "    cn_col_names = ['external_id', 'Sample', 'condition','Chromosome', 'Start', 'End','Segment_Mean', 'Segment_Call', 'Num_Probes']\n",
    "    print(\"Participant: \", str(os.path.basename(os.path.dirname(file))))\n",
    "    print(\"Filepath: \"+ file)\n",
    "    print(\"Link:\", str(re.sub('gs://', 'https://console.cloud.google.com/storage/browser/', file)))\n",
    "    make_interactive_table_orig(file, cols_to_include = cn_col_names)\n",
    "    \n",
    "    \n",
    "    "
   ]
  },
  {
   "cell_type": "markdown",
   "metadata": {},
   "source": [
    "## WES CN table\n",
    "Select from the dropdown menu to get the WES CN table for each participant, when available. The TSV will contain the data for all the different external IDs."
   ]
  },
  {
   "cell_type": "code",
   "execution_count": null,
   "metadata": {},
   "outputs": [],
   "source": [
    "# this code allows for the display of interactive tables with a dropdown menu to switch between participants\n",
    "@interact\n",
    "def show_tables(file=wes_cn):\n",
    "    cn_col_names = ['external_id', 'Sample', 'condition','Chromosome', 'Start', 'End','Segment_Mean', 'Segment_Call', 'Num_Probes']\n",
    "    print(\"Participant: \", str(os.path.basename(os.path.dirname(file))))\n",
    "    print(\"Filepath: \"+ file)\n",
    "    print(\"Link:\", str(re.sub('gs://', 'https://console.cloud.google.com/storage/browser/', file)))\n",
    "    make_interactive_table_orig(file, cols_to_include = cn_col_names)\n",
    "    make_interactive_table_orig(file, cols_to_include = cn_col_names)\n",
    "    "
   ]
  },
  {
   "cell_type": "markdown",
   "metadata": {},
   "source": [
    "## Maybe think about including mutations found in targeted that WEREN'T found in WES. Or, alternatively, just plot a venn diagram. I can only do this for samples where we have both WES and Targeted data - this shouldn't be difficult to figure out."
   ]
  },
  {
   "cell_type": "markdown",
   "metadata": {},
   "source": [
    "# Mutation data"
   ]
  },
  {
   "cell_type": "markdown",
   "metadata": {},
   "source": [
    "Below are interactive tables containing *select* mutation information from the targeted probe data and the WES data. If there were multiple external IDs in either dataset, they have been combined into one table. The external_id column can be used to filter the data so only the mutations for a single external ID is displayed.\n",
    "\n",
    "Note that this report only includes samples from the targeted data that pass the depth of coverage QC. Samples that did not pass this QC are not included in this report, and their data is not included in the Google bucket. A list of the samples that failed this QC is included earlier in this document (search for \"Table: failed QC external IDs\").\n",
    "\n",
    "Also, note that the below tables have been filtered such that the keep column equals True. What this means is that only the variants that passed the filtering steps in the pipeline are included in the tables below. However, the raw mutation TSVs included in the Google bucket contain all the variants regardless of whether keep is True or False if you are interested in that information. This TSV will also contain columns explaining why a mutation was removed during filtration.\n",
    "\n",
    "Generally speaking, if you are looking for more detailed information about why a mutation you expected to see was filtered out or if you want to get access to all of the columns available in the mutation TSV rather than the ones selected here, you can download the raw mutation TSV from the Google bucket."
   ]
  },
  {
   "cell_type": "code",
   "execution_count": null,
   "metadata": {},
   "outputs": [],
   "source": [
    "tsca_mut = ! gsutil ls -r {path}**mutation.tsv\n",
    "wes_mut = ! gsutil ls -r {path}**wes_mutations.tsv"
   ]
  },
  {
   "cell_type": "markdown",
   "metadata": {},
   "source": [
    "## Targeted mutation table"
   ]
  },
  {
   "cell_type": "code",
   "execution_count": null,
   "metadata": {},
   "outputs": [],
   "source": [
    "# this code allows for the display of interactive tables with a dropdown menu to switch between participants\n",
    "@interact\n",
    "def show_tables(file=tsca_mut):\n",
    "    mut_col_names = ['external_id', 'Genome_Change', 'Protein_Change','Variant_Classification', 'Variant_Type', 'tumor_f', 't_alt_count', 't_ref_count', 'COSMIC_total_alterations_in_gene',\n",
    "                     'CGC_Tumor_Types_Somatic', 'CGC_Tumor_Types_Germline',\n",
    "                     'Hugo_Symbol','Matched_Norm_Sample_Barcode','condition','Chromosome', 'Start_position', 'End_position','keep']\n",
    "    print(\"Participant: \", str(os.path.basename(os.path.dirname(file))))\n",
    "    print(\"Filepath: \"+ file)\n",
    "    print(\"Link:\", str(re.sub('gs://', 'https://console.cloud.google.com/storage/browser/', file)))\n",
    "    make_interactive_table_orig(file, cols_to_include = mut_col_names)\n",
    "    "
   ]
  },
  {
   "cell_type": "markdown",
   "metadata": {},
   "source": [
    "## WES mutation table"
   ]
  },
  {
   "cell_type": "code",
   "execution_count": null,
   "metadata": {},
   "outputs": [],
   "source": [
    "# this code allows for the display of interactive tables with a dropdown menu to switch between participants\n",
    "@interact\n",
    "def show_tables(file=wes_mut):\n",
    "    try:\n",
    "        mut_col_names = ['external_id', 'Genome_Change', 'Protein_Change','Variant_Classification', 'Variant_Type', 'tumor_f', 't_alt_count', 't_ref_count', 'COSMIC_total_alterations_in_gene',\n",
    "                     'CGC_Tumor_Types_Somatic', 'CGC_Tumor_Types_Germline',\n",
    "                     'Hugo_Symbol','Matched_Norm_Sample_Barcode','condition','Chromosome', 'Start_position', 'End_position','keep']\n",
    "        print(\"Participant: \", str(os.path.basename(os.path.dirname(file))))\n",
    "        print(\"Filepath: \"+ file)\n",
    "        print(\"Link:\", str(re.sub('gs://', 'https://console.cloud.google.com/storage/browser/', file)))\n",
    "        make_interactive_table_orig(file, cols_to_include = mut_col_names)\n",
    "    except:\n",
    "        print(\"\\nThis participant's mutation file is in a different format from the output of the newest pipeline. This data may be old.\")\n",
    "        make_interactive_table_orig(file)\n"
   ]
  }
 ],
 "metadata": {
  "kernelspec": {
   "display_name": "Python 3",
   "language": "python",
   "name": "python3"
  },
  "language_info": {
   "codemirror_mode": {
    "name": "ipython",
    "version": 3
   },
   "file_extension": ".py",
   "mimetype": "text/x-python",
   "name": "python",
   "nbconvert_exporter": "python",
   "pygments_lexer": "ipython3",
   "version": "3.7.4"
  },
  "toc": {
   "base_numbering": 1,
   "nav_menu": {},
   "number_sections": true,
   "sideBar": true,
   "skip_h1_title": false,
   "title_cell": "Table of Contents",
   "title_sidebar": "Contents",
   "toc_cell": false,
   "toc_position": {
    "height": "calc(100% - 180px)",
    "left": "10px",
    "top": "150px",
    "width": "262px"
   },
   "toc_section_display": true,
   "toc_window_display": true
  }
 },
 "nbformat": 4,
 "nbformat_minor": 2
}
