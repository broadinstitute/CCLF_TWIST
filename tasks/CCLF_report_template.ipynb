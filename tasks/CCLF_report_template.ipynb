{
 "cells": [
  {
   "cell_type": "code",
   "execution_count": null,
   "metadata": {},
   "outputs": [],
   "source": [
    "from __future__ import print_function\n",
    "import os.path\n",
    "import pandas as pd\n",
    "import numpy as np\n",
    "import sys\n",
    "sys.path.insert(0, '../../JKBio/')\n",
    "import CCLF_processing\n",
    "from IPython.display import Image, display, HTML\n",
    "\n",
    "# Import requirements for making CNV plots\n",
    "from matplotlib import pyplot as plt\n",
    "import cnvlib\n",
    "\n",
    "# Import requirements for interactive features\n",
    "import qgrid\n",
    "import ipywidgets as widgets\n",
    "from ipywidgets import interact, interact_manual, interactive\n",
    "import re # used for regex\n",
    "\n",
    "# Extra options\n",
    "qgrid.set_defaults(remote_js=True, precision=3, export_mode=True)\n",
    "# qgrid.set_grid_option('maxVisibleRows', 10)"
   ]
  },
  {
   "cell_type": "code",
   "execution_count": null,
   "metadata": {},
   "outputs": [],
   "source": [
    "# Using Phil's code for card view so I can have a dropdown in a static HTML. This is in the next three chunks.\n"
   ]
  },
  {
   "cell_type": "code",
   "execution_count": null,
   "metadata": {},
   "outputs": [],
   "source": [
    "%%javascript\n",
    "\n",
    "var script = document.createElement('script');\n",
    "script.type = 'text/javascript';\n",
    "script.src = '//code.jquery.com/jquery-3.3.1.min.js';\n",
    "document.head.appendChild(script);\n",
    "\n",
    "function updateVisibleCard(id_prefix) {\n",
    "    $(\".\"+id_prefix).hide()\n",
    "    $(\"#\"+$(\"#\"+id_prefix+\"-select\").children(\"option:selected\").val()).show()\n",
    "}\n",
    "\n",
    "console.log(window)\n",
    "window.updateVisibleCard = updateVisibleCard"
   ]
  },
  {
   "cell_type": "code",
   "execution_count": null,
   "metadata": {},
   "outputs": [],
   "source": [
    "import IPython\n",
    "from IPython import get_ipython\n",
    "def _get_html(obj):\n",
    "    \"\"\"Get the HTML representation of an object\"\"\"\n",
    "    # TODO: use displaypub to make this more general\n",
    "    ip = get_ipython()\n",
    "    png_rep = ip.display_formatter.formatters['image/png'](obj)\n",
    "\n",
    "    if png_rep is not None:\n",
    "        #if isinstance(obj, plt.Figure):\n",
    "        #    plt.close(obj)  # keep from displaying twice\n",
    "        return ('<img src=\"data:image/png;'\n",
    "                'base64,{0}\">'.format(png_rep))\n",
    "    else:\n",
    "        return \"<p> {0} </p>\".format(str(obj))\n",
    "\n",
    "    rep = ip.display_formatter.formatters['text/html'](obj)\n",
    "\n",
    "    if rep is not None:\n",
    "        return rep\n",
    "    elif hasattr(obj, '_repr_html_'):\n",
    "        return obj._repr_html_()"
   ]
  },
  {
   "cell_type": "code",
   "execution_count": null,
   "metadata": {},
   "outputs": [],
   "source": [
    "import random\n",
    "import string\n",
    "\n",
    "def random_id(n):\n",
    "    return ''.join([random.choice(string.ascii_uppercase+string.ascii_lowercase) for _ in range(n)])\n",
    "\n",
    "def _select_html(id_prefix, labels):\n",
    "    select_tmpl = \"<select id=\\\"{id_prefix}-select\\\" onchange=\\\"updateVisibleCard('{id_prefix}')\\\">{options}</select>\"\n",
    "    option_tmpl = \"<option value=\\\"{id_prefix}-{i}\\\" {selected}>{label}</option>\"\n",
    "    options = \"\".join([option_tmpl.format(selected={True: \"selected\", False: \"\"}[i == 0],\n",
    "                                          i=i, label=label, id_prefix=id_prefix) for i, label in enumerate(labels)])\n",
    "    return select_tmpl.format(**locals())\n",
    "\n",
    "def _cards_html(id_prefix, images):\n",
    "    div_tmpl = \"<div class=\\\"{id_prefix}\\\" id=\\\"{id_prefix}-{i}\\\" {style}>{inner_html}</div>\"\n",
    "    img_divs = [div_tmpl.format(inner_html=_get_html(image), \n",
    "                                style={False: \"style=\\\"display: none\\\"\", True: \"\"}[i == 0],\n",
    "                                id_prefix=id_prefix, \n",
    "                                i=i) for i, image in enumerate(images)]\n",
    "    return \"\".join(img_divs)\n",
    "\n",
    "def _select_card_html(labels, images):\n",
    "    assert len(labels) == len(images)\n",
    "    id_prefix = random_id(8)\n",
    "    select_html = _select_html(id_prefix, labels)\n",
    "    cards_html = _cards_html(id_prefix, images)\n",
    "    return select_html + cards_html\n",
    "\n",
    "def display_card_view(labels, images):\n",
    "    return IPython.display.HTML(_select_card_html(labels, images))\n",
    "    \n",
    "#IPython.display.HTML(\"\"\"\n",
    "#<select id=\"zzz-select\">\n",
    "#<option value=\"zzz-1\" selected>google</option>\n",
    "#<option value=\"zzz-2\">bird</option>\n",
    "#</select>\n",
    "#<div style='background-color:red; width: 100px'>aaa<div class='zzz' id='zzz-1'>\"\"\"\n",
    "#                     +_get_html(i1)+\"</div><div class='zzz' id='zzz-2' style='display: none'>\"+_get_html(i2)+\"</div>\")"
   ]
  },
  {
   "cell_type": "code",
   "execution_count": null,
   "metadata": {},
   "outputs": [],
   "source": [
    "cwd = os.getcwd()\n",
    "# print(cwd)"
   ]
  },
  {
   "cell_type": "code",
   "execution_count": null,
   "metadata": {
    "tags": [
     "parameters"
    ]
   },
   "outputs": [],
   "source": [
    "# path is the participant-specific path\n",
    "# path = \"gs://cclf_results/targeted/neekesh_201912/Wilms_Tumor/PEDS204/\"\n",
    "path = \"gs://cclf_results/targeted/neekesh_TEST/Wilms_Tumor/PEDS196/\""
   ]
  },
  {
   "cell_type": "code",
   "execution_count": null,
   "metadata": {},
   "outputs": [],
   "source": [
    "participant = str(os.path.basename(os.path.dirname(path))).replace(\"_\", \" \")\n",
    "disease = str(os.path.basename(os.path.dirname(os.path.dirname(path)))).replace(\"_\", \" \")"
   ]
  },
  {
   "cell_type": "markdown",
   "metadata": {},
   "source": [
    "***\n",
    "***"
   ]
  },
  {
   "cell_type": "markdown",
   "metadata": {
    "variables": {
     "disease": "Wilms Tumor",
     "participant": "PEDS196"
    }
   },
   "source": [
    "# Report for participant: {{participant}} ({{disease}})"
   ]
  },
  {
   "cell_type": "code",
   "execution_count": null,
   "metadata": {},
   "outputs": [],
   "source": [
    "def read_in_tables(filepaths, index_col = None):\n",
    "    \"\"\" takes list of filepaths to TSVs and returns dataframes read in by Pandas\"\"\"\n",
    "    return [pd.read_csv(f, sep='\\t', index_col = index_col) for f in filepaths]"
   ]
  },
  {
   "cell_type": "code",
   "execution_count": null,
   "metadata": {},
   "outputs": [],
   "source": [
    "%%capture\n",
    "# A list of file paths for the selected participant\n",
    "filepaths = ! gsutil ls -r {path}**\n",
    "\n",
    "# Get all the table filepaths in the bucket\n",
    "table_filepaths = ! gsutil ls -r {path}*.txt # check: will this search recursively for all .txt files?\n",
    "to_add = ! gsutil ls -r {path}**.tsv\n",
    "table_filepaths += to_add\n",
    "\n",
    "# Get all the png filepaths in the bucket\n",
    "img_filepaths = ! gsutil ls -r {path}**.png\n",
    "\n",
    "# Copy all the pngs in the bucket to a tmp folder\n",
    "# TODO: need to delete the files afterwards\n",
    "tempdir='../temp/cclfreport/'\n",
    "imagetempdir='../temp/cclfreport/images/'\n",
    "! gsutil cp -r {path}**.png {imagetempdir} # copy images from google bucket to local temp folder\n",
    "# local_img_filepaths = ! ls {imagetempdir}*.png\n",
    "local_img_filepaths = [imagetempdir + os.path.basename(i) for i in img_filepaths]\n",
    "\n",
    "# TODO: currently not exactly the external ID - it's the name of the image itself. # UPDATE: fixed!\n",
    "# Dictionary mapping external IDs to their respective horizontal CN plot GS links\n",
    "ext_id_to_GS_img = {os.path.basename(link).split(\"_wes_copy_number_map\")[0].split(\"_copy_number_map\")[0]:link for link in img_filepaths}\n",
    "\n",
    "# Directory mapping external IDs to the local filepaths for the horizontal CN plots\n",
    "ext_id_to_local_img = {os.path.basename(link).split(\"_wes_copy_number_map\")[0].split(\"_copy_number_map\")[0]:link for link in local_img_filepaths}"
   ]
  },
  {
   "cell_type": "code",
   "execution_count": null,
   "metadata": {},
   "outputs": [],
   "source": [
    "def make_interactive_table(filepath, cols_to_include = None, index_col_name = None, forcefit = False):\n",
    "    \"\"\"Takes single pd dataframe as input\"\"\"\n",
    "#     if type(filepath) is str:\n",
    "#         try:\n",
    "#             filepath = pd.read_csv(filepath, sep=\"\\t\", index_col = None)\n",
    "#         except:\n",
    "#             raise Exception(\"The function expected a pandas dataframe as input, but got a string that wasn't a path to a table: \", str(filepath))\n",
    "    if type(filepath) != pd.core.frame.DataFrame:\n",
    "        raise Exception(\"The function expected a pandas dataframe as input, but got: \", str(type(filepath)))\n",
    "    data = filepath\n",
    "    \n",
    "    # Set the index if it is a column in the data table\n",
    "    if index_col_name in data.columns.tolist():\n",
    "        data.set_index(index_col_name, inplace=True, drop=True)\n",
    "    \n",
    "    # Subset the data to include the specified columns, if any passed in\n",
    "    if cols_to_include is not None:\n",
    "#         if index_col_name is None:\n",
    "#             # The index is the first column listed\n",
    "#             index_col_name = cols_to_include[0]\n",
    "        data = data[cols_to_include]\n",
    "        if 'keep' in cols_to_include:\n",
    "            data = data.loc[data['keep'] == True]\n",
    "            \n",
    "    # Create and display interactive table\n",
    "    qgrid_widget = qgrid.show_grid(data, show_toolbar=False, grid_options = {'forceFitColumns': forcefit, 'defaultColumnWidth': 150, 'enableColumnReorder':True}, precision=3)\n",
    "    display(qgrid_widget)\n",
    "    print(\"\\n\")"
   ]
  },
  {
   "cell_type": "markdown",
   "metadata": {},
   "source": [
    "***\n",
    "***"
   ]
  },
  {
   "cell_type": "markdown",
   "metadata": {},
   "source": [
    "# Sample information and identifiers\n",
    "This section details the external IDs for all the samples we discovered when searching the existing targeted probe data and WES data."
   ]
  },
  {
   "cell_type": "code",
   "execution_count": null,
   "metadata": {},
   "outputs": [],
   "source": [
    "# TODO: add whether we have processed data for each external ID. Currently, I don't track the mutation data for the normal samples... because we don't call them separately."
   ]
  },
  {
   "cell_type": "code",
   "execution_count": null,
   "metadata": {},
   "outputs": [],
   "source": [
    "# Sample information and identifiers\n",
    "all_external_ids = ! gsutil ls -r {path}**all_external_ids.tsv\n",
    "all_failed_external_ids = ! gsutil ls -r {path}**all_failed_external_ids.tsv\n",
    "\n",
    "# Read in the tables\n",
    "all_external_ids_df = read_in_tables(all_external_ids, index_col = \"external_id\")\n",
    "all_failed_external_ids_df = read_in_tables(all_failed_external_ids, index_col = \"external_id\")"
   ]
  },
  {
   "cell_type": "markdown",
   "metadata": {},
   "source": [
    "## Table: all external IDs & associated metadata\n",
    "The below table is sortable and filterable. You can triple-click on the cells in the table if you want to copy the contents, like if you wanted to copy the link to the file in the Google storage console."
   ]
  },
  {
   "cell_type": "code",
   "execution_count": null,
   "metadata": {},
   "outputs": [],
   "source": [
    "# Make a table with metadata for each external ID\n",
    "\n",
    "summary_df = all_external_ids_df[0]\n",
    "# summary_df['participant'] = str(os.path.basename(os.path.dirname(all_external_ids[0])))\n",
    "# summary_df['disease'] = str(os.path.basename(os.path.dirname(os.path.dirname(all_external_ids[0]))))\n",
    "summary_df['filepath'] = str(os.path.dirname(all_external_ids[0]))\n",
    "summary_df['link'] = str(re.sub('gs://', 'https://console.cloud.google.com/storage/browser/', os.path.dirname(all_external_ids[0])))\n",
    "\n",
    "# Print some summary information\n",
    "print(\"We found a total of\", summary_df.shape[0],\"external IDs that passed the depth of coverage QC.\")\n",
    "print(\"Do note that some of these samples may not have been processed yet, so this report may not have CN plots or mutation information for all the external IDs listed below.\")\n",
    "\n",
    "# Display an interactive table\n",
    "qgrid_widget = qgrid.show_grid(summary_df, show_toolbar=False, grid_options = {'forceFitColumns': False, 'enableColumnReorder':False, 'maxVisibleRows':min(10, summary_df.shape[0])})\n",
    "display(qgrid_widget)"
   ]
  },
  {
   "cell_type": "code",
   "execution_count": null,
   "metadata": {},
   "outputs": [],
   "source": [
    "min(10, summary_df.shape[0])"
   ]
  },
  {
   "cell_type": "code",
   "execution_count": null,
   "metadata": {},
   "outputs": [],
   "source": [
    "display(summary_df)"
   ]
  },
  {
   "cell_type": "markdown",
   "metadata": {},
   "source": [
    "## Samples that failed the depth of coverage QC\n",
    "This summary details all the the external IDs of each sample that failed the depth of coverage QC in the targeted probe pipeline. The depth of coverage QC in the targeted probe pipeline requires that the average gene-level or interval-level coverage is >=50x."
   ]
  },
  {
   "cell_type": "code",
   "execution_count": null,
   "metadata": {},
   "outputs": [],
   "source": [
    "# Print the external IDs that passed the QC\n",
    "failed_qc = False\n",
    "\n",
    "# Make a table with metadata for each external ID\n",
    "failed_df = all_failed_external_ids_df[0]\n",
    "\n",
    "# Print some summary information\n",
    "print(\"We found a total of\", failed_df.shape[0],\"external IDs that failed the depth of coverage QC.\")\n",
    "\n",
    "# failed_df['participant'] = str(os.path.basename(os.path.dirname(all_external_ids[0])))\n",
    "# failed_df['disease'] = str(os.path.basename(os.path.dirname(os.path.dirname(all_external_ids[0]))))\n",
    "failed_df['filepath'] = str(os.path.dirname(all_external_ids[0]))\n",
    "failed_df['link'] = str(re.sub('gs://', 'https://console.cloud.google.com/storage/browser/', os.path.dirname(all_failed_external_ids[0])))\n",
    "\n",
    "# Display an interactive table\n",
    "if failed_df.shape[0] > 0:\n",
    "    qgrid_widget = qgrid.show_grid(failed_df, show_toolbar=False, grid_options = {'forceFitColumns': True, 'enableColumnReorder':True})\n",
    "    display(qgrid_widget)        \n"
   ]
  },
  {
   "cell_type": "markdown",
   "metadata": {},
   "source": [
    "***\n",
    "***"
   ]
  },
  {
   "cell_type": "markdown",
   "metadata": {},
   "source": [
    "# Copy number data"
   ]
  },
  {
   "cell_type": "code",
   "execution_count": null,
   "metadata": {},
   "outputs": [],
   "source": [
    "# Get the CN tables from the Google storage bucket and create list of paths\n",
    "tsca_cn = ! gsutil ls -r {path}**TSCA_copy_number.tsv\n",
    "twist_cn = ! gsutil ls -r {path}**TWIST_copy_number.tsv\n",
    "wes_cn = ! gsutil ls -r {path}**WES_copy_number.tsv\n",
    "all_cn_tables = wes_cn + tsca_cn + twist_cn\n",
    "\n",
    "# Create dictionary with filepaths as keys and pandas DF as the values\n",
    "tsca_cn_dict = {f:pd.read_csv(f, sep=\"\\t\", index_col = False) for f in tsca_cn if 'CommandException' not in f}\n",
    "twist_cn_dict = {f:pd.read_csv(f, sep=\"\\t\", index_col = False) for f in twist_cn if 'CommandException' not in f}\n",
    "wes_cn_dict = {f:pd.read_csv(f, sep=\"\\t\", index_col = False) for f in wes_cn if 'CommandException' not in f}\n",
    "\n",
    "# CN columns to display in tables\n",
    "cn_col_names = ['Sample', 'condition','Chromosome', 'Start', 'End','Segment_Mean', 'Segment_Call', 'Num_Probes']\n",
    "\n",
    "# Temporary directory for CN tables\n",
    "tabletempdir = '../temp/cclfreport/tables/'\n",
    "\n",
    "# Local filepaths for the CN tables\n",
    "local_cn_filepaths = [tabletempdir + os.path.basename(i) for i in all_cn_tables]"
   ]
  },
  {
   "cell_type": "code",
   "execution_count": null,
   "metadata": {},
   "outputs": [],
   "source": [
    "# Create single seg file containing all samples from targeted and WES\n",
    "\n",
    "# Create dict of dicts: {participant_id: {external_id: seg file}}\n",
    "seg_file_dict = dict()\n",
    "seg_columns = [\"external_id\",\"Chromosome\", \"Start\", \"End\", \"Num_Probes\", \"Segment_Mean\"]\n",
    "\n",
    "# Read in tables and merge together into one giant seg file\n",
    "seg_df = pd.concat((pd.read_csv(f,sep=\"\\t\", index_col = None) for f in all_cn_tables if 'CommandException' not in f), sort=True)\n",
    "\n",
    "# Convert to properly-formatted seg file and \n",
    "# convert the relative copy ratio to the log2(relative copy ratio)\n",
    "seg_df = seg_df.loc[:,seg_columns]\n",
    "seg_df[\"Segment_Mean\"] = np.log2(seg_df[\"Segment_Mean\"])\n",
    "\n",
    "# Write table to a seg file (TSV format)\n",
    "tmp_path = tabletempdir + participant + \".tsv\"\n",
    "seg_df.to_csv(tmp_path, sep = \"\\t\", index = False)"
   ]
  },
  {
   "cell_type": "code",
   "execution_count": null,
   "metadata": {},
   "outputs": [],
   "source": [
    "def sort_list(list1, list2): \n",
    "    # Sort list1 by values in list2\n",
    "    zipped_pairs = zip(list2, list1) \n",
    "  \n",
    "    z = [x for _, x in sorted(zipped_pairs)] \n",
    "      \n",
    "    return z"
   ]
  },
  {
   "cell_type": "code",
   "execution_count": null,
   "metadata": {},
   "outputs": [],
   "source": [
    "# Convert to .cns format using CNVkit\n",
    "converted = ! cnvkit.py import-seg {tmp_path} -d {tabletempdir}\n",
    "\n",
    "# Extract .cns filepaths\n",
    "cns_files = []\n",
    "# TODO: fix pattern so that has backslash before .cns. Otherwise, can end with cns instead of requiring .cns!\n",
    "pattern = re.compile(r'{}.*.cns'.format(tabletempdir))\n",
    "for file in converted:\n",
    "    cns_files += [re.search(pattern,file)[0]]\n",
    "    \n",
    "cns_ext_ids = [os.path.basename(path)[:-4] for path in cns_files]\n",
    "cns_id_file_dict = dict(zip(cns_ext_ids, cns_files))\n",
    "cns_file_id_dict = dict(zip(cns_files, cns_ext_ids))\n",
    "    \n",
    "# Sort the cns files so normals are at end\n",
    "cns_normal_status = [summary_df.loc[ext_id, 'is_normal'] for ext_id in cns_ext_ids]\n",
    "sorted_cns_ext_ids = sort_list(cns_ext_ids, cns_normal_status)\n",
    "cns_files = [cns_id_file_dict[id] for id in sorted_cns_ext_ids]\n",
    "\n",
    "# Create list of TSCA .cns filepaths\n",
    "# cns_tsca_ids = set(summary_df[summary_df.loc[:,\"dataset\"] == \"TSCA\"].loc[:,\"external_id\"])\n",
    "# cns_tsca = [tabletempdir+ext_id+\".cns\" for ext_id in cns_tsca_ids if ext_id in set(seg_df.loc[:,\"external_id\"])]\n",
    "cns_tsca_ids = set(summary_df.index[summary_df['dataset'] == 'TSCA'].tolist())\n",
    "cns_tsca = [f for f in cns_files if cns_file_id_dict[f] in cns_tsca_ids]\n",
    "\n",
    "\n",
    "# Create list of TWIST .cns filepaths\n",
    "# cns_twist_ids = set(summary_df[summary_df.loc[:,\"dataset\"] == \"TWIST\"].loc[:,\"external_id\"])\n",
    "# cns_twist = [tabletempdir+ext_id+\".cns\" for ext_id in cns_twist_ids if ext_id in set(seg_df.loc[:,\"external_id\"])]\n",
    "cns_twist_ids = set(summary_df.index[summary_df['dataset'] == 'TWIST'].tolist())\n",
    "cns_twist = [f for f in cns_files if cns_file_id_dict[f] in cns_twist_ids]\n",
    "\n",
    "\n",
    "# Creat list of all targeted .cns filepaths\n",
    "# cns_targeted_ids = set(summary_df[summary_df.loc[:,\"is_targeted\"] == True].loc[:,\"external_id\"])\n",
    "# cns_targeted = [tabletempdir+ext_id+\".cns\" for ext_id in cns_targeted_ids if ext_id in set(seg_df.loc[:,\"external_id\"])]\n",
    "cns_targeted_ids = set(summary_df.index[summary_df['is_targeted'] == True].tolist())\n",
    "cns_targeted = [f for f in cns_files if cns_file_id_dict[f] in cns_twist_ids.union(cns_tsca_ids)]\n",
    "\n",
    "\n",
    "# Create list of WES .cns filepaths\n",
    "# cns_wes_ids = set(summary_df[summary_df.loc[:,\"dataset\"] == \"WES\"].loc[:,\"external_id\"])\n",
    "# cns_wes = [tabletempdir+ext_id+\".cns\" for ext_id in cns_wes_ids if ext_id in set(seg_df.loc[:,\"external_id\"])]\n",
    "cns_wes_ids = set(summary_df.index[summary_df['dataset'] == 'WES'].tolist())\n",
    "cns_wes = [f for f in cns_files if cns_file_id_dict[f] in cns_wes_ids]\n"
   ]
  },
  {
   "cell_type": "markdown",
   "metadata": {},
   "source": [
    "## Copy number heat maps\n",
    "Select the plot to display from the dropdown menu. There are plots for targeted samples alone, WES samples alone, and all samples combined. A desaturated version of the CN heatmap for all samples combined is included as well. These CN heatmaps were constructed using log2(Segment_Mean) values from the seg file. \n",
    "\n",
    "To look at any one sample in more detail, you can look either at the corresponding horizontal CN plot in the next section titled \"Copy number horizontal plots\" or look at the CN seg file itself (see either the tables below or the TSV available at the link specified in the \"Sample information and identifiers\" section. The Segment_Mean value in the seg file itself is not transformed."
   ]
  },
  {
   "cell_type": "code",
   "execution_count": null,
   "metadata": {},
   "outputs": [],
   "source": [
    "cn_heatmap_img_paths = []"
   ]
  },
  {
   "cell_type": "code",
   "execution_count": null,
   "metadata": {},
   "outputs": [],
   "source": [
    "def make_cn_heat_map(cns_files, participant, disease, sample_source = \"targeted\", title = None, desaturated = False):\n",
    "    segments = [cnvlib.read(f) for f in cns_files]\n",
    "    plt.rcParams[\"font.size\"] = 32\n",
    "    plt.rcParams['figure.figsize'] = (32,max(6,len(segments)*3))\n",
    "\n",
    "    if desaturated:\n",
    "        ax = cnvlib.do_heatmap(segments, do_desaturate=True)\n",
    "        if title is None:\n",
    "            ax.set_title(\"Desaturated copy number heatmap for {} {} ({}) samples\".format(sample_source, participant, disease))\n",
    "        else:\n",
    "            ax.set_title(title)\n",
    "    \n",
    "    else:\n",
    "        ax = cnvlib.do_heatmap(segments, do_desaturate=False)\n",
    "        if title is None:\n",
    "            ax.set_title(\"Copy number heatmap for {} {} ({}) samples\".format(sample_source, participant, disease))\n",
    "        else:\n",
    "            ax.set_title(title)\n",
    "\n",
    "    plt.tight_layout()\n",
    "    \n",
    "    # Save the file locally so able to use Phil's display_card_view function\n",
    "    outpath = \"_\".join([participant, sample_source, \"desat\", str(desaturated)]) + \".png\"\n",
    "    plt.savefig(outpath, bbox_inches='tight')"
   ]
  },
  {
   "cell_type": "code",
   "execution_count": null,
   "metadata": {},
   "outputs": [],
   "source": [
    "%%capture\n",
    "cn_heatmap_img_paths = []\n",
    "cns_list = [cns_files, cns_wes, cns_targeted, cns_twist, cns_tsca]\n",
    "cns_type = [\"all\", \"WES\",\"targeted\",\"TWIST\",\"TSCA\"]\n",
    "cns_dict = dict(zip(cns_type, cns_list))\n",
    "for key,val in cns_dict.items():\n",
    "    desat = False\n",
    "    make_cn_heat_map(cns_files = val, participant = participant, disease = disease, sample_source = key, desaturated = False)\n",
    "#     # Make a desaturated version in addition when plotting all samples\n",
    "#     if key == cns_files:\n",
    "#         desat = True\n",
    "#         make_cn_heat_map(cns_files = key, participant = participant, disease = disease, \n",
    "#                          sample_source = val, desaturated = False)\n",
    "\n",
    "    cn_heatmap_img_paths += [\"_\".join([participant, key, \"desat\", str(desat)]) + \".png\"]"
   ]
  },
  {
   "cell_type": "markdown",
   "metadata": {},
   "source": [
    "**Note**: The copy number heatmaps will display all available samples given your selection from the dropdown menu. If there are no samples available, the heatmap will be a grey box."
   ]
  },
  {
   "cell_type": "code",
   "execution_count": null,
   "metadata": {},
   "outputs": [],
   "source": [
    "display_card_view(labels = cns_type, images = [Image(i) for i in cn_heatmap_img_paths])"
   ]
  },
  {
   "cell_type": "markdown",
   "metadata": {},
   "source": [
    "## Copy number horizontal plots"
   ]
  },
  {
   "cell_type": "markdown",
   "metadata": {},
   "source": [
    "Select the copy number plot you would like to display from the dropdown menu. The dropdown menu includes CN plots from both targeted probe (TSCA and TWIST) and WES data. The source of the data will be displayed on the title of the image. You can also refer to the table of all external IDs that maps each external ID to the source of the data (see \"Sample information and identifiers\").\n",
    "\n",
    "The dropdown menu also includes a merged version of the horizontal copy number maps. This PNG file contains all the horizontal CN plots for the participant in a single place for ease of quick comparison."
   ]
  },
  {
   "cell_type": "code",
   "execution_count": null,
   "metadata": {},
   "outputs": [],
   "source": [
    "# TODO: the WES samples have the sample ID instead of the external ID, and I don't include the sample ID metadata anywhere in the report.\n",
    "# extID_source_disease = [id+\"(\"+summary_df[summary_df.loc[:,\"external_id\"] == id].loc[:,\"dataset\"]+\", \" + summary_df[summary_df.loc[:,\"external_id\"] == id].loc[:,\"disease\"]+\")\" for id in list(image_names)]"
   ]
  },
  {
   "cell_type": "code",
   "execution_count": null,
   "metadata": {},
   "outputs": [],
   "source": [
    "# Using Phil's code for dropdown menu in static HTML (display_card_view)\n",
    "image_names = ext_id_to_local_img.keys()\n",
    "horizontal_plots = [Image(file) for file in local_img_filepaths]\n",
    "\n",
    "# horizontal_CN_plots = {os.path.basename(file)[:-4]:Image(file) for file in local_img_filepaths}\n",
    "display_card_view(labels = image_names, images = horizontal_plots)"
   ]
  },
  {
   "cell_type": "markdown",
   "metadata": {},
   "source": [
    "## Targeted CN table (seg files)\n",
    "The targeted copy number tables contains all the seg files for each sample that underwent targeted sequencing. The segment mean in the tables below represents the relative copy number. The relative copy number was calculated following this [GATK Somatic CNV calling tutorial](https://gatkforums.broadinstitute.org/gatk/discussion/9143/how-to-call-somatic-copy-number-variants-using-gatk4-cnv). The PON used when calculating the CNV information was created using all the normals from the same sequencing batch. This usually ranges from 8-11 normals for a batch of ~40 tumor samples.\n",
    "\n",
    "Note that while the horizontal CN plots display the relative copy number, the CN heatmaps display the log2(relative copy number). No pseudocount was included because none of the relative copy number values are ever exactly 0."
   ]
  },
  {
   "cell_type": "code",
   "execution_count": null,
   "metadata": {},
   "outputs": [],
   "source": [
    "def get_gs_file_meta(filepath):\n",
    "    # Print key information about the filepath\n",
    "    participant = str(os.path.basename(os.path.dirname(filepath)))\n",
    "    link = str(re.sub('gs://', 'https://console.cloud.google.com/storage/browser/', filepath))\n",
    "    return {\"participant\":participant,\n",
    "           \"filepath\":filepath,\n",
    "           \"link\":link}"
   ]
  },
  {
   "cell_type": "code",
   "execution_count": null,
   "metadata": {},
   "outputs": [],
   "source": [
    "def display_table(file, file_table_dict = None, cols_to_use = None, index_col = None, forcefit = False):\n",
    "    if type(file) is str:\n",
    "        try:\n",
    "#             filepath = pd.read_csv(file, sep=\"\\t\", index_col = None)\n",
    "            # Get the TSV from the dict\n",
    "            df = file_table_dict[file]\n",
    "            \n",
    "            # Print key information about the file\n",
    "            print(\"Participant: \", str(os.path.basename(os.path.dirname(file))))\n",
    "            print(\"\\nFilepath: \"+ file)\n",
    "            print(\"\\nLink:\", str(re.sub('gs://', 'https://console.cloud.google.com/storage/browser/', file)))\n",
    "            \n",
    "        except:\n",
    "            if type(filepath) is pd.core.frame.DataFrame:\n",
    "                df = file\n",
    "            else:\n",
    "                raise Exception(\"The function expected a pandas dataframe as input, but got a string that wasn't a path to a table: \", str(filepath))\n",
    "    \n",
    "    print(\"\\nTo examine data for a particular external ID, filter the 'external_id' column.\")\n",
    "\n",
    "    # Make and display an interactive table\n",
    "    try:\n",
    "        make_interactive_table(df, cols_to_include = cols_to_use, index_col_name = index_col, forcefit=forcefit)\n",
    "    except:\n",
    "        print(\"These are the columns in common between cols_to_use and the df: \", set(cols_to_use).intersection(set(df.columns.tolist())))\n",
    "        print(\"These are the columns in common in cols_to_use that aren't in the df: \", set(cols_to_use)- set(df.columns.tolist()))\n",
    "    \n",
    "        print(\"\\nAt least one of this participant's mutation file is in a different format from the output of the newest pipeline. This data may be old, and have different column names. No filtering is performed on the displayed table, but you can add additional filters if desired.\")\n",
    "        make_interactive_table(df, cols_to_include = None, index_col_name = index_col, forcefit=forcefit)\n"
   ]
  },
  {
   "cell_type": "code",
   "execution_count": null,
   "metadata": {
    "variables": {
     "tsca_meta['filepath']": "gs://cclf_results/targeted/neekesh_201912/Wilms_Tumor/PEDS204/copy_number.tsv",
     "tsca_meta['link']": "&#39;<a href=\"https://console.cloud.google.com/storage/browser/cclf_results/targeted/neekesh_201912/Wilms_Tumor/PEDS204/copy_number.tsv&#39;\">https://console.cloud.google.com/storage/browser/cclf_results/targeted/neekesh_201912/Wilms_Tumor/PEDS204/copy_number.tsv&#39;</a>",
     "tsca_meta['participant']": "PEDS204"
    }
   },
   "outputs": [],
   "source": [
    "# Participant: {{tsca_meta['participant']}}\n",
    "\n",
    "# Filepath: {{tsca_meta['filepath']}}\n",
    "\n",
    "# # TODO: get rid of extra apostrophes\n",
    "# Link: {{tsca_meta['link']}}\n",
    "    \n",
    "# To examine data for a particular external ID, filter the 'external_id' column."
   ]
  },
  {
   "cell_type": "code",
   "execution_count": null,
   "metadata": {},
   "outputs": [],
   "source": [
    "## TODO: delete / start work \n",
    "tsca_cn_dict.values()\n",
    "if 'CommandException' not in tsca_cn[0]:\n",
    "    tmp = pd.read_csv(tsca_cn[0], sep=\"\\t\", index_col = 'external_id') \n",
    "    \n",
    "if 'CommandException' not in twist_cn[0]:\n",
    "    tmp2 = pd.read_csv(twist_cn[0], sep=\"\\t\", index_col = 'external_id') \n",
    "\n",
    "try:\n",
    "    merged = pd.merge(tmp, tmp2, how='left')\n",
    "except:\n",
    "    pass"
   ]
  },
  {
   "cell_type": "code",
   "execution_count": null,
   "metadata": {},
   "outputs": [],
   "source": [
    "display_table(file = tsca_cn[0], file_table_dict = tsca_cn_dict, cols_to_use = cn_col_names, index_col = \"external_id\")"
   ]
  },
  {
   "cell_type": "markdown",
   "metadata": {},
   "source": [
    "## WES CN table  (seg files)\n",
    "The WES copy number tables contains all the seg files for each sample that underwent WES sequencing. The segment mean in the tables below represents the relative copy number, as calculated using __(TODO:)__\n",
    "\n",
    "Note that while the horizontal CN plots display the relative copy number, the CN heatmaps display the log2(relative copy number). No pseudocount was included because none of the relative copy number values are ever exactly 0."
   ]
  },
  {
   "cell_type": "code",
   "execution_count": null,
   "metadata": {},
   "outputs": [],
   "source": [
    "display_table(file = wes_cn[0],file_table_dict = wes_cn_dict, cols_to_use = cn_col_names, index_col = \"external_id\")"
   ]
  },
  {
   "cell_type": "markdown",
   "metadata": {},
   "source": [
    "***\n",
    "***"
   ]
  },
  {
   "cell_type": "markdown",
   "metadata": {},
   "source": [
    "# Mutation data"
   ]
  },
  {
   "cell_type": "code",
   "execution_count": null,
   "metadata": {},
   "outputs": [],
   "source": [
    "# # Check difference between lists including duplicates\n",
    "# from collections import Counter \n",
    "  \n",
    "# # initializing lists \n",
    "# test_list1 = mut_col_names_targeted\n",
    "# test_list2 = list(set(mut_col_names_targeted))\n",
    "  \n",
    "# # printing original lists \n",
    "# print(\"The original list 1 : \" + str(test_list1)) \n",
    "# print(\"The original list 2 : \" + str(test_list2)) \n",
    "  \n",
    "# # Using collections.Counter() \n",
    "# # Difference of list including duplicates \n",
    "# res = list((Counter(test_list1) - Counter(test_list2)).elements()) \n",
    "  \n",
    "# # print result \n",
    "# print(\"The list after performing the subtraction : \" + str(res))"
   ]
  },
  {
   "cell_type": "code",
   "execution_count": null,
   "metadata": {},
   "outputs": [],
   "source": [
    "# Get the mutation TSVs\n",
    "tsca_mut = ! gsutil ls -r {path}**TSCA_mutation.tsv\n",
    "twist_mut = ! gsutil ls -r {path}**TWIST_mutation.tsv\n",
    "wes_mut = ! gsutil ls -r {path}**WES_mutation.tsv\n",
    "\n",
    "# Create dictionary with filepaths as keys and pandas DF as the values\n",
    "tsca_mut_dict = {f:pd.read_csv(f, sep=\"\\t\", index_col = False) for f in tsca_mut if 'CommandException' not in f}\n",
    "twist_mut_dict = {f:pd.read_csv(f, sep=\"\\t\", index_col = False) for f in twist_mut if 'CommandException' not in f}\n",
    "wes_mut_dict = {f:pd.read_csv(f, sep=\"\\t\", index_col = False) for f in wes_mut if 'CommandException' not in f}\n",
    "\n",
    "# Mutation TSV columns to display in tables\n",
    "# mut_col_names_targeted = mut_col_names_wes plus 'data source' and 'condition'\n",
    "mut_col_names_targeted = ['data source', 'condition', 'Hugo_Symbol', 'Protein_Change','Variant_Classification', 'Variant_Type', 'tumor_f', 't_alt_count', 't_ref_count', 'COSMIC_total_alterations_in_gene',\n",
    "                 'CGC_Tumor_Types_Somatic', 'CGC_Tumor_Types_Germline',\n",
    "                 'Matched_Norm_Sample_Barcode','Chromosome', 'Start_position', 'End_position','Genome_Change','keep']\n",
    "\n",
    "# mut_col_names = mut_col_names_wes plus 'data source'\n",
    "mut_col_names = ['data source', 'Hugo_Symbol', 'Protein_Change','Variant_Classification', 'Variant_Type', 'tumor_f', 't_alt_count', 't_ref_count', 'COSMIC_total_alterations_in_gene',\n",
    "                 'CGC_Tumor_Types_Somatic', 'CGC_Tumor_Types_Germline',\n",
    "                 'Matched_Norm_Sample_Barcode','condition','Chromosome', 'Start_position', 'End_position','Genome_Change','keep']\n",
    "\n",
    "mut_col_names_wes = [ 'Hugo_Symbol', 'Protein_Change','Variant_Classification', 'Variant_Type', 'tumor_f', 't_alt_count', 't_ref_count', 'COSMIC_total_alterations_in_gene',\n",
    "                 'CGC_Tumor_Types_Somatic', 'CGC_Tumor_Types_Germline',\n",
    "                 'Matched_Norm_Sample_Barcode','condition','Chromosome', 'Start_position', 'End_position','Genome_Change','keep']"
   ]
  },
  {
   "cell_type": "markdown",
   "metadata": {},
   "source": [
    "Below are interactive tables containing *select* mutation information from the targeted probe data and the WES data. If there were multiple external IDs in either dataset, they have been combined into one table. The external_id column can be used to filter the data so only the mutations for a single external ID is displayed.\n",
    "\n",
    "Note that this report only includes samples from the targeted data that pass the depth of coverage QC. Samples that did not pass this QC are not included in this report, and their data is not included in the Google bucket. A list of the samples that failed this QC is included earlier in this document (search for \"Table: failed QC external IDs\").\n",
    "\n",
    "Also, note that the below tables have been filtered such that the keep column equals True. What this means is that only the variants that passed the filtering steps in the pipeline are included in the tables below. However, the raw mutation TSVs included in the Google bucket contain all the variants regardless of whether keep is True or False if you are interested in that information.\n",
    "\n",
    "Generally speaking, if you are looking for more detailed information about why a mutation you expected to see was filtered out or if you want to get access to all of the columns available in the mutation TSV rather than the ones selected here, you can download the raw mutation TSV from the Google bucket. The full TSV contains some boolean columns that, when combined, explain the logic behind whether a variant passes our filters. \n",
    "\n",
    "For targeted WES data, we use the filters built into Mutect1 (GATK v3) and Mutect2 (GATK v4) in addition to additional filtering logic. For example, we rescue known TCGA hotspots and COSMIC mutations even if Mutect1 or Mutect2 would have filtered these out.\n",
    "\n",
    "<!-- TODO: I think I should probably add more information about the filters here? I asked Neekesh, and he doesn't think this is necessary. -->"
   ]
  },
  {
   "cell_type": "markdown",
   "metadata": {},
   "source": [
    "## Targeted mutation table\n",
    "The targeted mutation table contains select columns from the MAF files for each sample that underwent targeted sequencing. The PON used was generated using all the normals we had at the time for the targeted sequencing technology. For example, if we had 45 normals from all the TWIST sequencing so far we would have a PON with 45 normals. This differs from the PON used for CNVs."
   ]
  },
  {
   "cell_type": "code",
   "execution_count": null,
   "metadata": {},
   "outputs": [],
   "source": [
    "# make_interactive_table(pd.read_csv(tsca_mut[0], sep = \"\\t\", index_col = False), cols_to_include = mut_col_names_targeted, index_col_name = 'external_id')"
   ]
  },
  {
   "cell_type": "code",
   "execution_count": null,
   "metadata": {},
   "outputs": [],
   "source": [
    "display_table(file = tsca_mut[0],file_table_dict = tsca_mut_dict, cols_to_use = mut_col_names_targeted, index_col = \"external_id\")"
   ]
  },
  {
   "cell_type": "markdown",
   "metadata": {},
   "source": [
    "## WES mutation table"
   ]
  },
  {
   "cell_type": "code",
   "execution_count": null,
   "metadata": {},
   "outputs": [],
   "source": [
    "display_table(file = wes_mut[0],file_table_dict = wes_mut_dict, cols_to_use = mut_col_names_wes, index_col = \"external_id\",  forcefit=False)"
   ]
  },
  {
   "cell_type": "markdown",
   "metadata": {},
   "source": [
    "## Summary information about mutations\n",
    "The goal here is to answer a series of common questions. For example:\n",
    "\n",
    "1. How many of the samples have a given gene + protein change?\n",
    "2. For the samples that share a given gene + protein change, what are the allele fractions?\n",
    "3. Do we see any gene + protein changes that are not present in all samples? Any changes that are present in cell lines but not the primary tumor?\n",
    "\n",
    "It's harder to answer questions comparing T vs N because we use the N samples in the variant filtering steps (built into Mutect1/2, additional scripts after calling with these GATK tools).\n",
    "It's also tricky to compare between WES and targeted sequencing samples that are older. These samples don't have consistent column names, and some may not even have the protein change reported at all."
   ]
  },
  {
   "cell_type": "code",
   "execution_count": null,
   "metadata": {},
   "outputs": [],
   "source": [
    "mut_summary = pd.read_csv(tsca_mut[0], sep = \"\\t\", index_col = False)\n",
    "mut_summary.columns.tolist()\n",
    "\n",
    "\n",
    "columns_of_interest = ['Protein_Change', 'external_id', 'data source', 'keep', 'Hugo_Symbol']\n",
    "mut_summary = mut_summary[columns_of_interest]\n",
    "if 'keep' in columns_of_interest:\n",
    "    mut_summary = mut_summary.loc[mut_summary['keep'] == True]\n",
    "    \n",
    "mut_summary\n",
    "# display_table(file = mut_summary,  forcefit=False)"
   ]
  },
  {
   "cell_type": "code",
   "execution_count": null,
   "metadata": {},
   "outputs": [],
   "source": [
    "# TODO: Now we should delete all the data from the local temporary directories\n",
    "# aka everything except for the folders in: tempdir (tempdir='../temp/cclfreport/') or even just in '../temp/' if we're truly done for the moment.\n",
    "\n",
    "# TODO: maybe include summary info about the mutation file, like number of mutations per sample? IDK. this would be better if could select dropdowns, like summary stats on either per gene or per external ID or the combo"
   ]
  },
  {
   "cell_type": "code",
   "execution_count": null,
   "metadata": {},
   "outputs": [],
   "source": []
  }
 ],
 "metadata": {
  "celltoolbar": "Tags",
  "kernelspec": {
   "display_name": "Python 3",
   "language": "python",
   "name": "python3"
  },
  "language_info": {
   "codemirror_mode": {
    "name": "ipython",
    "version": 3
   },
   "file_extension": ".py",
   "mimetype": "text/x-python",
   "name": "python",
   "nbconvert_exporter": "python",
   "pygments_lexer": "ipython3",
   "version": "3.7.4"
  },
  "toc": {
   "base_numbering": 1,
   "nav_menu": {},
   "number_sections": true,
   "sideBar": true,
   "skip_h1_title": false,
   "title_cell": "Table of Contents",
   "title_sidebar": "Contents",
   "toc_cell": false,
   "toc_position": {
    "height": "calc(100% - 180px)",
    "left": "10px",
    "top": "150px",
    "width": "262px"
   },
   "toc_section_display": true,
   "toc_window_display": true
  }
 },
 "nbformat": 4,
 "nbformat_minor": 2
}
