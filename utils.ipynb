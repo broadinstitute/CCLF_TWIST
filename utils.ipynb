{
 "cells": [
  {
   "cell_type": "markdown",
   "metadata": {},
   "source": [
    "# Delete metadata in PANCAN_TWIST_Dev"
   ]
  },
  {
   "cell_type": "code",
   "execution_count": 2,
   "metadata": {},
   "outputs": [
    {
     "name": "stdout",
     "output_type": "stream",
     "text": [
      "The autoreload extension is already loaded. To reload it, use:\n",
      "  %reload_ext autoreload\n"
     ]
    }
   ],
   "source": [
    "from firecloud_sugar import *\n",
    "import warnings\n",
    "import glob\n",
    "import numpy as np\n",
    "import dalmatian as dog\n",
    "import pandas as pd\n",
    "warnings.filterwarnings('ignore')\n",
    "%load_ext autoreload\n",
    "%autoreload 2"
   ]
  },
  {
   "cell_type": "code",
   "execution_count": 3,
   "metadata": {},
   "outputs": [],
   "source": [
    "namespace = \"nci-mimoun-bi-org\"\n",
    "workspace = \"PANCAN_TWIST_Dev\"\n",
    "\n",
    "namespace_gp = \"broad-genomics-delivery\"\n",
    "workspace_gp = \"Cancer_Cell_Line_Factory_CCLF_PanCancer_PanelSeq\""
   ]
  },
  {
   "cell_type": "code",
   "execution_count": 6,
   "metadata": {},
   "outputs": [],
   "source": [
    "#wm: dog.WorkspaceManager\n",
    "wm = dog.WorkspaceManager(namespace,workspace)\n",
    "\n",
    "#wm_gp: dog.WorkspaceManager\n",
    "wm_gp = dog.WorkspaceManager(namespace_gp, workspace_gp)"
   ]
  },
  {
   "cell_type": "code",
   "execution_count": null,
   "metadata": {},
   "outputs": [],
   "source": [
    "# Delete all sample_sets\n",
    "all_sample_sets = wm.get_sample_sets()\n",
    "[wm.delete_sample_set(sample_set_index) for sample_set_index in all_sample_sets.index]"
   ]
  },
  {
   "cell_type": "code",
   "execution_count": null,
   "metadata": {},
   "outputs": [],
   "source": [
    "# Delete all samples\n",
    "all_samples = wm.get_samples()\n",
    "[wm.delete_sample(sample_index) for sample_index in all_samples.index]"
   ]
  },
  {
   "cell_type": "code",
   "execution_count": null,
   "metadata": {},
   "outputs": [],
   "source": [
    "# Delete all the participants\n",
    "all_participants = wm.get_participants()\n",
    "[wm.delete_participant(participant_index) for participant_index in all_participants.index]"
   ]
  },
  {
   "cell_type": "code",
   "execution_count": 7,
   "metadata": {},
   "outputs": [],
   "source": [
    "# Upload participant metadata\n",
    "twist2_external = pd.read_excel(\"twist_external_sample_ids/TWIST2_External_Sample_ID.xlsx\")\n",
    "collaborator_participant_id = twist2_external['Collaborator Participant ID']"
   ]
  },
  {
   "cell_type": "code",
   "execution_count": 8,
   "metadata": {},
   "outputs": [
    {
     "data": {
      "text/plain": [
       "array([u'CCLF_AB1065', u'CCLF_AB1097', u'CCLF_BU1013', u'CCLF_BU1017',\n",
       "       u'CCLF_cRCRF1040', u'CCLF_cRCRF1060', u'CCLF_cRCRF1081',\n",
       "       u'CCLF_cRCRF1085', u'CCLF_CY1006', u'CCLF_CY1007', u'CCLF_CY1015',\n",
       "       u'CCLF_KL1235', u'CCLF_KL1282', u'CCLF_KL1283', u'CCLF_KL1288',\n",
       "       u'CCLF_KL1292', u'CCLF_KL1294', u'CCLF_PEDS1064', u'CCLF_PEDS1140',\n",
       "       u'CCLF_PEDS1141', u'CCLF_PEDS1143', u'CCLF_PEDS1153',\n",
       "       u'CCLF_PEDS1154', u'CCLF_PEDS1155', u'CCLF_PEDS1156',\n",
       "       u'CCLF_RCRF1041', u'CCLF_RCRF1064', u'CCLF_RCRF1070',\n",
       "       u'CCLF_RCRF1097', u'CCLF_RCRF1099', u'CCLF_RCRF1102',\n",
       "       u'CCLF_SS1020', u'CCLF_CTRL', u'SP014'], dtype=object)"
      ]
     },
     "execution_count": 8,
     "metadata": {},
     "output_type": "execute_result"
    }
   ],
   "source": [
    "unique_participant_ids = collaborator_participant_id.unique()\n",
    "#unique_participant_ids = np.insert(unique_participant_ids, 0, 'entity:participant_id')\n",
    "unique_participant_ids"
   ]
  },
  {
   "cell_type": "code",
   "execution_count": 38,
   "metadata": {},
   "outputs": [
    {
     "name": "stdout",
     "output_type": "stream",
     "text": [
      "Successfully imported 34 participants.\n"
     ]
    }
   ],
   "source": [
    "# unique_participant_fc = pd.DataFrame(unique_participant_ids)\n",
    "wm.upload_participants(unique_participant_ids)"
   ]
  },
  {
   "cell_type": "code",
   "execution_count": 9,
   "metadata": {},
   "outputs": [],
   "source": [
    "# Get sample set Twist 2\n",
    "gp_sample_sets = wm_gp.get_sample_sets()\n",
    "twist2_gp_sample_sets = gp_sample_sets[gp_sample_sets.index == 'CCLF_TWIST2']"
   ]
  },
  {
   "cell_type": "code",
   "execution_count": 10,
   "metadata": {},
   "outputs": [],
   "source": [
    "all_twist2_samples = twist2_gp_sample_sets['samples'].values[0]"
   ]
  },
  {
   "cell_type": "code",
   "execution_count": 11,
   "metadata": {},
   "outputs": [],
   "source": [
    "# Get all samples\n",
    "gp_samples = wm_gp.get_samples()"
   ]
  },
  {
   "cell_type": "code",
   "execution_count": 12,
   "metadata": {},
   "outputs": [],
   "source": [
    "only_twist2_samples = gp_samples[gp_samples.index.isin(all_twist2_samples)]"
   ]
  },
  {
   "cell_type": "code",
   "execution_count": 13,
   "metadata": {},
   "outputs": [
    {
     "data": {
      "text/plain": [
       "array([u'RP-571_PDO-18546_SM-J1OYQ_CCLF_cRCRF1040T_v1_Custom_Selection_OnPrem',\n",
       "       u'RP-571_PDO-18546_SM-J1OYR_CCLF_BU1017N_v1_Custom_Selection_OnPrem',\n",
       "       u'RP-571_PDO-18546_SM-J1OYS_CCLF_cRCRF1060T_v1_Custom_Selection_OnPrem',\n",
       "       u'RP-571_PDO-18546_SM-J1OYT_CCLF_AB1065T_v1_Custom_Selection_OnPrem',\n",
       "       u'RP-571_PDO-18546_SM-J1OYU_CCLF_KL1288T_v1_Custom_Selection_OnPrem',\n",
       "       u'RP-571_PDO-18546_SM-J1OYV_CCLF_KL1283T_v1_Custom_Selection_OnPrem',\n",
       "       u'RP-571_PDO-18546_SM-J1OYW_CCLF_cRCRF1040T_v1_Custom_Selection_OnPrem',\n",
       "       u'RP-571_PDO-18546_SM-J1OYX_CCLF_KL1282T_v1_Custom_Selection_OnPrem',\n",
       "       u'RP-571_PDO-18546_SM-J1OYY_CCLF_BU1013T_v1_Custom_Selection_OnPrem',\n",
       "       u'RP-571_PDO-18546_SM-J1OYZ_CCLF_cRCRF1060T_v1_Custom_Selection_OnPrem',\n",
       "       u'RP-571_PDO-18546_SM-J1OZ1_CCLF_cRCRF1060T_v1_Custom_Selection_OnPrem',\n",
       "       u'RP-571_PDO-18546_SM-J1OZ2_CCLF_cRCRF1060T_v1_Custom_Selection_OnPrem',\n",
       "       u'RP-571_PDO-18546_SM-J1OZ3_CCLF_PEDS1143N_v1_Custom_Selection_OnPrem',\n",
       "       u'RP-571_PDO-18546_SM-J1OZ4_CCLF_RCRF1097T_v1_Custom_Selection_OnPrem',\n",
       "       u'RP-571_PDO-18546_SM-J1OZ5_CCLF_pEDS1140T_v1_Custom_Selection_OnPrem',\n",
       "       u'RP-571_PDO-18546_SM-J1OZ7_CCLF_cRCRF1081T_v1_Custom_Selection_OnPrem',\n",
       "       u'RP-571_PDO-18546_SM-J1OZ8_CCLF_PEDS1153T_v1_Custom_Selection_OnPrem',\n",
       "       u'RP-571_PDO-18546_SM-J1OZ9_CCLF_cRCRF1085T_v1_Custom_Selection_OnPrem',\n",
       "       u'RP-571_PDO-18546_SM-J1OZA_CCLF_SS1020T_v1_Custom_Selection_OnPrem',\n",
       "       u'RP-571_PDO-18546_SM-J1OZB_CCLF_PEDS1153N_v1_Custom_Selection_OnPrem',\n",
       "       u'RP-571_PDO-18546_SM-J1OZC_CCLF_cRCRF1085T_v1_Custom_Selection_OnPrem',\n",
       "       u'RP-571_PDO-18546_SM-J1OZD_CCLF_SS1020N_v1_Custom_Selection_OnPrem',\n",
       "       u'RP-571_PDO-18546_SM-J1OZE_CCLF_KL1294T_v1_Custom_Selection_OnPrem',\n",
       "       u'RP-571_PDO-18546_SM-J1OZF_CCLF_KL1235T_v1_Custom_Selection_OnPrem',\n",
       "       u'RP-571_PDO-18546_SM-J1OZG_CCLF_AB1097T_ASC_v1_Custom_Selection_OnPrem',\n",
       "       u'RP-571_PDO-18546_SM-J1OZH_CCLF_RCRF1070T_v1_Custom_Selection_OnPrem',\n",
       "       u'RP-571_PDO-18546_SM-J1OZI_CCLF_RCRF1064T_v1_Custom_Selection_OnPrem',\n",
       "       u'RP-571_PDO-18546_SM-J1OZJ_CCLF_PEDS1064N_v1_Custom_Selection_OnPrem',\n",
       "       u'RP-571_PDO-18546_SM-J1OZK_CCLF_CY1006T_v1_Custom_Selection_OnPrem',\n",
       "       u'RP-571_PDO-18546_SM-J1OZL_SP014N_GL_v1_Custom_Selection_OnPrem',\n",
       "       u'RP-571_PDO-18546_SM-J1OZM_CCLF_CY1007T_v1_Custom_Selection_OnPrem',\n",
       "       u'RP-571_PDO-18546_SM-J1OZN_CCLF_CY1015T_v1_Custom_Selection_OnPrem',\n",
       "       u'RP-571_PDO-18546_SM-J1OZO_CCLF_PEDS1141N_v1_Custom_Selection_OnPrem',\n",
       "       u'RP-571_PDO-18546_SM-J1OZP_CCLF_PEDS1143T_v1_Custom_Selection_OnPrem',\n",
       "       u'RP-571_PDO-18546_SM-J1OZQ_CCLF_PEDS1141T_v1_Custom_Selection_OnPrem',\n",
       "       u'RP-571_PDO-18546_SM-J1OZR_CCLF_CY1006T_v1_Custom_Selection_OnPrem',\n",
       "       u'RP-571_PDO-18546_SM-J1OZS_CCLF_RCRF1102N_v1_Custom_Selection_OnPrem',\n",
       "       u'RP-571_PDO-18546_SM-J1OZT_CCLF_KL1292T_v1_Custom_Selection_OnPrem',\n",
       "       u'RP-571_PDO-18546_SM-J1OZU_CCLF_CY1007T_v1_Custom_Selection_OnPrem',\n",
       "       u'RP-571_PDO-18546_SM-J1OZV_CCLF_PEDS1156T_v1_Custom_Selection_OnPrem',\n",
       "       u'RP-571_PDO-18546_SM-J1OZW_CCLF_CY1015T_v1_Custom_Selection_OnPrem',\n",
       "       u'RP-571_PDO-18546_SM-J1OZX_CCLF_RCRF1099T_v1_Custom_Selection_OnPrem',\n",
       "       u'RP-571_PDO-18546_SM-J1OZY_CCLF_PEDS1154T_v1_Custom_Selection_OnPrem',\n",
       "       u'RP-571_PDO-18546_SM-J1OZZ_CCLF_CY1015T_v1_Custom_Selection_OnPrem',\n",
       "       u'RP-571_PDO-18546_SM-J1P11_CCLF_PEDS1155T_v1_Custom_Selection_OnPrem',\n",
       "       u'RP-571_PDO-18546_SM-J1P12_CCLF_RCRF1102T_v1_Custom_Selection_OnPrem'],\n",
       "      dtype=object)"
      ]
     },
     "execution_count": 13,
     "metadata": {},
     "output_type": "execute_result"
    }
   ],
   "source": [
    "only_twist2_samples.index.values[1:]"
   ]
  },
  {
   "cell_type": "code",
   "execution_count": 14,
   "metadata": {},
   "outputs": [],
   "source": [
    "# Extract SM-IDS from sample_ids\n",
    "import re\n",
    "only_twist2_samples.index\n",
    "\n",
    "gp_ids = only_twist2_samples.index.values\n",
    "\n",
    "for gp_id in only_twist2_samples.index.values[1:]:\n",
    "    \n",
    "    search_sm_id = re.search('(SM-[^_]*)_', gp_id)\n",
    "    current_sm_id = search_sm_id.group(1)\n",
    "    \n",
    "    only_twist2_samples.at[gp_id, 'sm_id'] = current_sm_id\n",
    "\n",
    "ctrl_series = twist2_external[twist2_external['Parent Sample ID'] == 'Ctrl']\n",
    "ctrl_sm_id = ctrl_series['Exported DNA SM-ID']\n",
    "\n",
    "\n",
    "\n",
    "\n",
    "\n",
    "#newlist = list(filter(r.match, mylist))\n",
    "#sm_ids = re.match('')\n",
    "\n",
    "# For the NA ctrl, fetch the SM-ID in the external sheet (Twist 2 in this case)"
   ]
  },
  {
   "cell_type": "code",
   "execution_count": 19,
   "metadata": {},
   "outputs": [],
   "source": [
    "#only_twist2_samples.iloc[0, 'sm_id'] = ctrl_sm_id.iloc[0]"
   ]
  },
  {
   "cell_type": "code",
   "execution_count": 17,
   "metadata": {},
   "outputs": [],
   "source": [
    "only_twist2_samples.ix[0, 'sm_id'] = ctrl_sm_id.iloc[0]"
   ]
  },
  {
   "cell_type": "code",
   "execution_count": 20,
   "metadata": {},
   "outputs": [],
   "source": [
    "#META DATA for the following things:\n",
    "#Create Sample_set for Tumor (TWIST2_T) and Normal(TWIST2_N) and batch (TWIST2)\n",
    "#Create pair_set for Tumor_Normal if no pair Tumor_NA (TWIST2_TN)example CCLF_CY1008-Tumor-SM-IZ2VV_NA_TN (pair) CCLF_SS1017-Tumor-SM-IZ2VX_CCLF_SS1017-Normal-SM-ISKDN_TN \n"
   ]
  },
  {
   "cell_type": "code",
   "execution_count": 228,
   "metadata": {},
   "outputs": [
    {
     "data": {
      "text/plain": [
       "rna_ribosomal_bases                      null\n",
       "wgs_pct_80x                                 0\n",
       "hs_zero_cvg_targets_pct               .003949\n",
       "min_insert_size                             2\n",
       "library-1_read_pair_duplicates        1631804\n",
       "                                       ...   \n",
       "wgs_pct_exc_baseq                           0\n",
       "rna_num_r1_transcript_strand_reads          0\n",
       "wgs_pct_1x                                  0\n",
       "hs_min_target_coverage                    NaN\n",
       "sm_id                                     NaN\n",
       "Name: RP-1872_NA12878_LCSET-15778_v1_Custom_Selection_OnPrem, Length: 222, dtype: object"
      ]
     },
     "execution_count": 228,
     "metadata": {},
     "output_type": "execute_result"
    }
   ],
   "source": [
    "only_twist2_samples."
   ]
  },
  {
   "cell_type": "code",
   "execution_count": 163,
   "metadata": {},
   "outputs": [],
   "source": []
  },
  {
   "cell_type": "code",
   "execution_count": 164,
   "metadata": {},
   "outputs": [
    {
     "data": {
      "text/plain": [
       "sample_id\n",
       "RP-1872_NA12878_LCSET-15778_v1_Custom_Selection_OnPrem                   RP-1872_NA12878_LCSET-15778_v1_Custom_Selectio...\n",
       "RP-571_PDO-18546_SM-J1OYQ_CCLF_cRCRF1040T_v1_Custom_Selection_OnPrem     RP-571_PDO-18546_SM-J1OYQ_CCLF_cRCRF1040T_v1_C...\n",
       "RP-571_PDO-18546_SM-J1OYR_CCLF_BU1017N_v1_Custom_Selection_OnPrem        RP-571_PDO-18546_SM-J1OYR_CCLF_BU1017N_v1_Cust...\n",
       "RP-571_PDO-18546_SM-J1OYS_CCLF_cRCRF1060T_v1_Custom_Selection_OnPrem     RP-571_PDO-18546_SM-J1OYS_CCLF_cRCRF1060T_v1_C...\n",
       "RP-571_PDO-18546_SM-J1OYT_CCLF_AB1065T_v1_Custom_Selection_OnPrem        RP-571_PDO-18546_SM-J1OYT_CCLF_AB1065T_v1_Cust...\n",
       "RP-571_PDO-18546_SM-J1OYU_CCLF_KL1288T_v1_Custom_Selection_OnPrem        RP-571_PDO-18546_SM-J1OYU_CCLF_KL1288T_v1_Cust...\n",
       "RP-571_PDO-18546_SM-J1OYV_CCLF_KL1283T_v1_Custom_Selection_OnPrem        RP-571_PDO-18546_SM-J1OYV_CCLF_KL1283T_v1_Cust...\n",
       "RP-571_PDO-18546_SM-J1OYW_CCLF_cRCRF1040T_v1_Custom_Selection_OnPrem     RP-571_PDO-18546_SM-J1OYW_CCLF_cRCRF1040T_v1_C...\n",
       "RP-571_PDO-18546_SM-J1OYX_CCLF_KL1282T_v1_Custom_Selection_OnPrem        RP-571_PDO-18546_SM-J1OYX_CCLF_KL1282T_v1_Cust...\n",
       "RP-571_PDO-18546_SM-J1OYY_CCLF_BU1013T_v1_Custom_Selection_OnPrem        RP-571_PDO-18546_SM-J1OYY_CCLF_BU1013T_v1_Cust...\n",
       "RP-571_PDO-18546_SM-J1OYZ_CCLF_cRCRF1060T_v1_Custom_Selection_OnPrem     RP-571_PDO-18546_SM-J1OYZ_CCLF_cRCRF1060T_v1_C...\n",
       "RP-571_PDO-18546_SM-J1OZ1_CCLF_cRCRF1060T_v1_Custom_Selection_OnPrem     RP-571_PDO-18546_SM-J1OZ1_CCLF_cRCRF1060T_v1_C...\n",
       "RP-571_PDO-18546_SM-J1OZ2_CCLF_cRCRF1060T_v1_Custom_Selection_OnPrem     RP-571_PDO-18546_SM-J1OZ2_CCLF_cRCRF1060T_v1_C...\n",
       "RP-571_PDO-18546_SM-J1OZ3_CCLF_PEDS1143N_v1_Custom_Selection_OnPrem      RP-571_PDO-18546_SM-J1OZ3_CCLF_PEDS1143N_v1_Cu...\n",
       "RP-571_PDO-18546_SM-J1OZ4_CCLF_RCRF1097T_v1_Custom_Selection_OnPrem      RP-571_PDO-18546_SM-J1OZ4_CCLF_RCRF1097T_v1_Cu...\n",
       "RP-571_PDO-18546_SM-J1OZ5_CCLF_pEDS1140T_v1_Custom_Selection_OnPrem      RP-571_PDO-18546_SM-J1OZ5_CCLF_pEDS1140T_v1_Cu...\n",
       "RP-571_PDO-18546_SM-J1OZ7_CCLF_cRCRF1081T_v1_Custom_Selection_OnPrem     RP-571_PDO-18546_SM-J1OZ7_CCLF_cRCRF1081T_v1_C...\n",
       "RP-571_PDO-18546_SM-J1OZ8_CCLF_PEDS1153T_v1_Custom_Selection_OnPrem      RP-571_PDO-18546_SM-J1OZ8_CCLF_PEDS1153T_v1_Cu...\n",
       "RP-571_PDO-18546_SM-J1OZ9_CCLF_cRCRF1085T_v1_Custom_Selection_OnPrem     RP-571_PDO-18546_SM-J1OZ9_CCLF_cRCRF1085T_v1_C...\n",
       "RP-571_PDO-18546_SM-J1OZA_CCLF_SS1020T_v1_Custom_Selection_OnPrem        RP-571_PDO-18546_SM-J1OZA_CCLF_SS1020T_v1_Cust...\n",
       "RP-571_PDO-18546_SM-J1OZB_CCLF_PEDS1153N_v1_Custom_Selection_OnPrem      RP-571_PDO-18546_SM-J1OZB_CCLF_PEDS1153N_v1_Cu...\n",
       "RP-571_PDO-18546_SM-J1OZC_CCLF_cRCRF1085T_v1_Custom_Selection_OnPrem     RP-571_PDO-18546_SM-J1OZC_CCLF_cRCRF1085T_v1_C...\n",
       "RP-571_PDO-18546_SM-J1OZD_CCLF_SS1020N_v1_Custom_Selection_OnPrem        RP-571_PDO-18546_SM-J1OZD_CCLF_SS1020N_v1_Cust...\n",
       "RP-571_PDO-18546_SM-J1OZE_CCLF_KL1294T_v1_Custom_Selection_OnPrem        RP-571_PDO-18546_SM-J1OZE_CCLF_KL1294T_v1_Cust...\n",
       "RP-571_PDO-18546_SM-J1OZF_CCLF_KL1235T_v1_Custom_Selection_OnPrem        RP-571_PDO-18546_SM-J1OZF_CCLF_KL1235T_v1_Cust...\n",
       "RP-571_PDO-18546_SM-J1OZG_CCLF_AB1097T_ASC_v1_Custom_Selection_OnPrem    RP-571_PDO-18546_SM-J1OZG_CCLF_AB1097T_ASC_v1_...\n",
       "RP-571_PDO-18546_SM-J1OZH_CCLF_RCRF1070T_v1_Custom_Selection_OnPrem      RP-571_PDO-18546_SM-J1OZH_CCLF_RCRF1070T_v1_Cu...\n",
       "RP-571_PDO-18546_SM-J1OZI_CCLF_RCRF1064T_v1_Custom_Selection_OnPrem      RP-571_PDO-18546_SM-J1OZI_CCLF_RCRF1064T_v1_Cu...\n",
       "RP-571_PDO-18546_SM-J1OZJ_CCLF_PEDS1064N_v1_Custom_Selection_OnPrem      RP-571_PDO-18546_SM-J1OZJ_CCLF_PEDS1064N_v1_Cu...\n",
       "RP-571_PDO-18546_SM-J1OZK_CCLF_CY1006T_v1_Custom_Selection_OnPrem        RP-571_PDO-18546_SM-J1OZK_CCLF_CY1006T_v1_Cust...\n",
       "RP-571_PDO-18546_SM-J1OZL_SP014N_GL_v1_Custom_Selection_OnPrem           RP-571_PDO-18546_SM-J1OZL_SP014N_GL_v1_Custom_...\n",
       "RP-571_PDO-18546_SM-J1OZM_CCLF_CY1007T_v1_Custom_Selection_OnPrem        RP-571_PDO-18546_SM-J1OZM_CCLF_CY1007T_v1_Cust...\n",
       "RP-571_PDO-18546_SM-J1OZN_CCLF_CY1015T_v1_Custom_Selection_OnPrem        RP-571_PDO-18546_SM-J1OZN_CCLF_CY1015T_v1_Cust...\n",
       "RP-571_PDO-18546_SM-J1OZO_CCLF_PEDS1141N_v1_Custom_Selection_OnPrem      RP-571_PDO-18546_SM-J1OZO_CCLF_PEDS1141N_v1_Cu...\n",
       "RP-571_PDO-18546_SM-J1OZP_CCLF_PEDS1143T_v1_Custom_Selection_OnPrem      RP-571_PDO-18546_SM-J1OZP_CCLF_PEDS1143T_v1_Cu...\n",
       "RP-571_PDO-18546_SM-J1OZQ_CCLF_PEDS1141T_v1_Custom_Selection_OnPrem      RP-571_PDO-18546_SM-J1OZQ_CCLF_PEDS1141T_v1_Cu...\n",
       "RP-571_PDO-18546_SM-J1OZR_CCLF_CY1006T_v1_Custom_Selection_OnPrem        RP-571_PDO-18546_SM-J1OZR_CCLF_CY1006T_v1_Cust...\n",
       "RP-571_PDO-18546_SM-J1OZS_CCLF_RCRF1102N_v1_Custom_Selection_OnPrem      RP-571_PDO-18546_SM-J1OZS_CCLF_RCRF1102N_v1_Cu...\n",
       "RP-571_PDO-18546_SM-J1OZT_CCLF_KL1292T_v1_Custom_Selection_OnPrem        RP-571_PDO-18546_SM-J1OZT_CCLF_KL1292T_v1_Cust...\n",
       "RP-571_PDO-18546_SM-J1OZU_CCLF_CY1007T_v1_Custom_Selection_OnPrem        RP-571_PDO-18546_SM-J1OZU_CCLF_CY1007T_v1_Cust...\n",
       "RP-571_PDO-18546_SM-J1OZV_CCLF_PEDS1156T_v1_Custom_Selection_OnPrem      RP-571_PDO-18546_SM-J1OZV_CCLF_PEDS1156T_v1_Cu...\n",
       "RP-571_PDO-18546_SM-J1OZW_CCLF_CY1015T_v1_Custom_Selection_OnPrem        RP-571_PDO-18546_SM-J1OZW_CCLF_CY1015T_v1_Cust...\n",
       "RP-571_PDO-18546_SM-J1OZX_CCLF_RCRF1099T_v1_Custom_Selection_OnPrem      RP-571_PDO-18546_SM-J1OZX_CCLF_RCRF1099T_v1_Cu...\n",
       "RP-571_PDO-18546_SM-J1OZY_CCLF_PEDS1154T_v1_Custom_Selection_OnPrem      RP-571_PDO-18546_SM-J1OZY_CCLF_PEDS1154T_v1_Cu...\n",
       "RP-571_PDO-18546_SM-J1OZZ_CCLF_CY1015T_v1_Custom_Selection_OnPrem        RP-571_PDO-18546_SM-J1OZZ_CCLF_CY1015T_v1_Cust...\n",
       "RP-571_PDO-18546_SM-J1P11_CCLF_PEDS1155T_v1_Custom_Selection_OnPrem      RP-571_PDO-18546_SM-J1P11_CCLF_PEDS1155T_v1_Cu...\n",
       "RP-571_PDO-18546_SM-J1P12_CCLF_RCRF1102T_v1_Custom_Selection_OnPrem      RP-571_PDO-18546_SM-J1P12_CCLF_RCRF1102T_v1_Cu...\n",
       "Name: sm_id, dtype: object"
      ]
     },
     "execution_count": 164,
     "metadata": {},
     "output_type": "execute_result"
    }
   ],
   "source": []
  },
  {
   "cell_type": "code",
   "execution_count": null,
   "metadata": {},
   "outputs": [],
   "source": []
  }
 ],
 "metadata": {
  "kernelspec": {
   "display_name": "Python (myenv)",
   "language": "python",
   "name": "myenv"
  },
  "language_info": {
   "codemirror_mode": {
    "name": "ipython",
    "version": 2
   },
   "file_extension": ".py",
   "mimetype": "text/x-python",
   "name": "python",
   "nbconvert_exporter": "python",
   "pygments_lexer": "ipython2",
   "version": "2.7.15"
  }
 },
 "nbformat": 4,
 "nbformat_minor": 4
}
