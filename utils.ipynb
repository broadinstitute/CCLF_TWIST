{
 "cells": [
  {
   "cell_type": "markdown",
   "metadata": {},
   "source": [
    "# Delete metadata in PANCAN_TWIST_Dev"
   ]
  },
  {
   "cell_type": "code",
   "execution_count": null,
   "metadata": {},
   "outputs": [],
   "source": [
    "from firecloud_sugar import *\n",
    "import warnings\n",
    "import glob\n",
    "import numpy as np\n",
    "import dalmatian as dog\n",
    "import pandas as pd\n",
    "warnings.filterwarnings('ignore')\n",
    "%load_ext autoreload\n",
    "%autoreload 2"
   ]
  },
  {
   "cell_type": "code",
   "execution_count": null,
   "metadata": {},
   "outputs": [],
   "source": [
    "namespace = \"nci-mimoun-bi-org\"\n",
    "workspace = \"PANCAN_TWIST_Dev\"\n",
    "\n",
    "namespace_gp = \"broad-genomics-delivery\"\n",
    "workspace_gp = \"Cancer_Cell_Line_Factory_CCLF_PanCancer_PanelSeq\""
   ]
  },
  {
   "cell_type": "code",
   "execution_count": null,
   "metadata": {},
   "outputs": [],
   "source": [
    "wm: dog.WorkspaceManager\n",
    "wm = dog.WorkspaceManager(namespace,workspace)\n",
    "\n",
    "wm_gp: dog.WorkspaceManager\n",
    "wm_gp = dog.WorkspaceManager(namespace_gp, workspace_gp)"
   ]
  },
  {
   "cell_type": "code",
   "execution_count": null,
   "metadata": {},
   "outputs": [],
   "source": [
    "# Delete all sample_sets\n",
    "all_sample_sets = wm.get_sample_sets()\n",
    "[wm.delete_sample_set(sample_set_index) for sample_set_index in all_sample_sets.index]"
   ]
  },
  {
   "cell_type": "code",
   "execution_count": null,
   "metadata": {},
   "outputs": [],
   "source": [
    "# Delete all samples\n",
    "all_samples = wm.get_samples()\n",
    "[wm.delete_sample(sample_index) for sample_index in all_samples.index]"
   ]
  },
  {
   "cell_type": "code",
   "execution_count": null,
   "metadata": {},
   "outputs": [],
   "source": [
    "# Delete all the participants\n",
    "all_participants = wm.get_participants()\n",
    "[wm.delete_participant(participant_index) for participant_index in all_participants.index]"
   ]
  },
  {
   "cell_type": "code",
   "execution_count": null,
   "metadata": {},
   "outputs": [],
   "source": [
    "# Upload participant metadata\n",
    "twist2_external = pd.read_excel(\"twist_external_sample_ids/TWIST2_External_Sample_ID.xlsx\")\n",
    "collaborator_participant_id = twist2_external['Collaborator Participant ID']"
   ]
  },
  {
   "cell_type": "code",
   "execution_count": null,
   "metadata": {},
   "outputs": [],
   "source": [
    "unique_participant_ids = collaborator_participant_id.unique()\n",
    "#unique_participant_ids = np.insert(unique_participant_ids, 0, 'entity:participant_id')\n",
    "unique_participant_ids"
   ]
  },
  {
   "cell_type": "code",
   "execution_count": null,
   "metadata": {},
   "outputs": [],
   "source": [
    "# unique_participant_fc = pd.DataFrame(unique_participant_ids)\n",
    "wm.upload_participants(unique_participant_ids)"
   ]
  },
  {
   "cell_type": "code",
   "execution_count": null,
   "metadata": {},
   "outputs": [],
   "source": [
    "# Get sample set Twist 2\n",
    "gp_sample_sets = wm_gp.get_sample_sets()\n",
    "twist2_gp_sample_sets = gp_sample_sets[gp_sample_sets.index == 'CCLF_TWIST2']"
   ]
  },
  {
   "cell_type": "code",
   "execution_count": null,
   "metadata": {},
   "outputs": [],
   "source": [
    "all_twist2_samples = twist2_gp_sample_sets['samples'].values[0]"
   ]
  },
  {
   "cell_type": "code",
   "execution_count": null,
   "metadata": {},
   "outputs": [],
   "source": [
    "# Get all samples\n",
    "gp_samples = wm_gp.get_samples()"
   ]
  },
  {
   "cell_type": "code",
   "execution_count": null,
   "metadata": {},
   "outputs": [],
   "source": [
    "only_twist2_samples = gp_samples[gp_samples.index.isin(all_twist2_samples)]"
   ]
  },
  {
   "cell_type": "code",
   "execution_count": null,
   "metadata": {},
   "outputs": [],
   "source": [
    "only_twist2_samples.index.values[1:]"
   ]
  },
  {
   "cell_type": "code",
   "execution_count": null,
   "metadata": {},
   "outputs": [],
   "source": [
    "# Extract SM-IDS from sample_ids\n",
    "import re\n",
    "only_twist2_samples.index\n",
    "\n",
    "gp_ids = only_twist2_samples.index.values\n",
    "\n",
    "for gp_id in only_twist2_samples.index.values[1:]:\n",
    "    \n",
    "    search_sm_id = re.search('(SM-[^_]*)_', gp_id)\n",
    "    current_sm_id = search_sm_id.group(1)\n",
    "    \n",
    "    only_twist2_samples.at[gp_id, 'sm_id'] = current_sm_id\n",
    "\n",
    "ctrl_series = twist2_external[twist2_external['Parent Sample ID'] == 'Ctrl']\n",
    "ctrl_sm_id = ctrl_series['Exported DNA SM-ID']\n",
    "\n",
    "\n",
    "\n",
    "\n",
    "\n",
    "#newlist = list(filter(r.match, mylist))\n",
    "#sm_ids = re.match('')\n",
    "\n",
    "# For the NA ctrl, fetch the SM-ID in the external sheet (Twist 2 in this case)"
   ]
  },
  {
   "cell_type": "code",
   "execution_count": null,
   "metadata": {},
   "outputs": [],
   "source": [
    "only_twist2_samples.iloc[0, 'sm_id'] = ctrl_sm_id.iloc[0]"
   ]
  },
  {
   "cell_type": "code",
   "execution_count": null,
   "metadata": {},
   "outputs": [],
   "source": [
    "only_twist2_samples.ix[0, 'sm_id'] = ctrl_sm_id.iloc[0]"
   ]
  },
  {
   "cell_type": "code",
   "execution_count": null,
   "metadata": {},
   "outputs": [],
   "source": [
    "only_twist2_samples"
   ]
  },
  {
   "cell_type": "code",
   "execution_count": null,
   "metadata": {},
   "outputs": [],
   "source": [
    "only_twist2_samples.iloc[0]"
   ]
  },
  {
   "cell_type": "code",
   "execution_count": null,
   "metadata": {},
   "outputs": [],
   "source": []
  },
  {
   "cell_type": "code",
   "execution_count": null,
   "metadata": {},
   "outputs": [],
   "source": []
  },
  {
   "cell_type": "code",
   "execution_count": null,
   "metadata": {},
   "outputs": [],
   "source": []
  }
 ],
 "metadata": {
  "kernelspec": {
   "display_name": "Python 3",
   "language": "python",
   "name": "python3"
  },
  "language_info": {
   "codemirror_mode": {
    "name": "ipython",
    "version": 3
   },
   "file_extension": ".py",
   "mimetype": "text/x-python",
   "name": "python",
   "nbconvert_exporter": "python",
   "pygments_lexer": "ipython3",
   "version": "3.7.4"
  }
 },
 "nbformat": 4,
 "nbformat_minor": 4
}
