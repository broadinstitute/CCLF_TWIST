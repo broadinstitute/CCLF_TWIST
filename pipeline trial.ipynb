{
 "cells": [
  {
   "cell_type": "code",
   "execution_count": null,
   "metadata": {},
   "outputs": [],
   "source": [
    "from __future__ import print_function\n",
    "import os.path\n",
    "import dalmatian as dm\n",
    "import pandas as pd\n",
    "import sys\n",
    "sys.path.insert(0, '../JKBio/')\n",
    "import TerraFunction as terra\n",
    "from Helper import *\n",
    "import numpy as np\n",
    "from gsheets import Sheets\n",
    "%load_ext autoreload\n",
    "%autoreload 2"
   ]
  },
  {
   "cell_type": "code",
   "execution_count": null,
   "metadata": {},
   "outputs": [],
   "source": [
    "data_namespace=\"broad-genomics-delivery\"\n",
    "data_workspace=\"Cancer_Cell_Line_Factory_CCLF_PanCancer_PanelSeq\"\n",
    "proc_namespace=\"nci-mimoun-bi-org\"\n",
    "proc_workspace=\"PANCAN_TWIST\"\n",
    "source=\"CCLF\"\n",
    "source=\"CCLF\"\n",
    "recreateID=False\n",
    "samplesetname = 'trial_twist2'\n",
    "site=\"HT33MBCX2\"\n",
    "tsca_id=\"TSCA45\"\n",
    "date=\"201904\"\n",
    "TSCA_version=\"TSCA Rapid Cancer Detection Panel v2\"\n",
    "picard_aggregation_type_validation=\"PCR\"\n",
    "forcekeep=[]\n",
    "gsheeturllist=[\"https://docs.google.com/spreadsheets/d/1LR8OFylVClxf0kmZpAdlVjrn3RBcfZKpNoDYtKdnHB8\", \"https://docs.google.com/spreadsheets/d/128dkFhL1A0GqTjmR7iMvBZE8j6ymO8krBL9WX-wUAn4\"]"
   ]
  },
  {
   "cell_type": "code",
   "execution_count": null,
   "metadata": {},
   "outputs": [],
   "source": [
    "sheets = Sheets.from_files('~/.client_secret.json', '~/.storage.json')\n",
    "replace = {'T': 'Tumor', 'N': 'Normal', 'm': 'Unknown', 'L': 'Unknown'}"
   ]
  },
  {
   "cell_type": "code",
   "execution_count": null,
   "metadata": {},
   "outputs": [],
   "source": [
    "wfrom = dm.WorkspaceManager(data_namespace, data_workspace)\n",
    "wto = dm.WorkspaceManager(proc_namespace, proc_workspace)"
   ]
  },
  {
   "cell_type": "code",
   "execution_count": null,
   "metadata": {},
   "outputs": [],
   "source": [
    "wto.delete_entity('pair',newpairs.index)"
   ]
  },
  {
   "cell_type": "code",
   "execution_count": null,
   "metadata": {},
   "outputs": [],
   "source": [
    "wto.delete_sample(sample_info.index)"
   ]
  },
  {
   "cell_type": "code",
   "execution_count": null,
   "metadata": {},
   "outputs": [],
   "source": [
    "\n",
    "# we look at all the samples we already have\n",
    "refsamples = wto.get_samples()\n",
    "refids = refsamples.index\n",
    "\n",
    "# we use this gsheet package to get all the sheets into one dataframe\n",
    "metadata = pd.concat([sheets.get(url).sheets[0].to_frame() for url in gsheeturllist])\n",
    "\n",
    "# we do some corrections just in case\n",
    "samples1 = wfrom.get_samples().replace(np.nan, '', regex=True)\n",
    "\n",
    "# renaming\n",
    "metadata = metadata.dropna(0, subset=['Collaborator Sample ID'])\n",
    "ttype = [replace[i.split('_')[1][-1]] for i in metadata[\"Collaborator Sample ID\"]]\n",
    "metadata['sample_id'] = [ID + '-' + ttype[i] + '-' + metadata.iloc[i]['Exported DNA SM-ID'] for i, ID in enumerate(metadata['Collaborator Participant ID'])]\n",
    "samples1.index = recreateSampleID(samples1.index)"
   ]
  },
  {
   "cell_type": "code",
   "execution_count": null,
   "metadata": {},
   "outputs": [],
   "source": [
    "samples1['sample_type']"
   ]
  },
  {
   "cell_type": "code",
   "execution_count": null,
   "metadata": {},
   "outputs": [],
   "source": [
    "# filtering\n",
    "newsamples = samples1[(~samples1.index.isin(refids)) | samples1.index.isin(forcekeep)]\n",
    "newsamples['SM_ID'] = ['SM-' + i.split('-SM-')[-1] for i in newsamples.index]\n",
    "tokeep = set(metadata['Exported DNA SM-ID']) & set(newsamples['SM_ID'])"
   ]
  },
  {
   "cell_type": "code",
   "execution_count": null,
   "metadata": {},
   "outputs": [],
   "source": [
    "tokeep"
   ]
  },
  {
   "cell_type": "code",
   "execution_count": null,
   "metadata": {},
   "outputs": [],
   "source": [
    "\n",
    "newsamples = newsamples[newsamples['SM_ID'].isin(tokeep)]\n",
    "metadata = metadata[metadata['Exported DNA SM-ID'].isin(tokeep)]\n",
    "\n",
    "newsamples = newsamples.set_index('SM_ID')\n",
    "newmetadata = metadata.set_index('Exported DNA SM-ID')"
   ]
  },
  {
   "cell_type": "code",
   "execution_count": null,
   "metadata": {},
   "outputs": [],
   "source": [
    "def recreateSampleID(listLike):\n",
    "      return [i.split('_')[3] + '_' + i.split('_')[4][:-1] + '-' + replace[i.split('_')[4][-1]] + '-' + i.split('_')[2] for i in listLike]"
   ]
  },
  {
   "cell_type": "code",
   "execution_count": null,
   "metadata": {},
   "outputs": [],
   "source": [
    "newsamples.shape"
   ]
  },
  {
   "cell_type": "code",
   "execution_count": null,
   "metadata": {},
   "outputs": [],
   "source": [
    "newsamples"
   ]
  },
  {
   "cell_type": "code",
   "execution_count": null,
   "metadata": {},
   "outputs": [],
   "source": [
    "df = pd.concat([newmetadata, newsamples], axis=1,sort=True)"
   ]
  },
  {
   "cell_type": "code",
   "execution_count": null,
   "metadata": {},
   "outputs": [],
   "source": [
    "print('creating new df')\n",
    "# from this new set we create a dataframe which will get uploaded to terra\n",
    "sample_info = df[['crai_or_bai_path', 'cram_or_bam_path']]\n",
    "sample_info['reference_id'] = df.index\n",
    "sample_info['participant'] = df['Collaborator Participant ID']\n",
    "sample_info['aggregation_product_name_validation'] = [TSCA_version] * sample_info.shape[0]\n",
    "sample_info['bsp_sample_id_validation'] = sample_info['reference_id']\n",
    "sample_info['stock_sample_id_validation'] = df['Stock DNA SM-ID']\n",
    "sample_info['sample_type'] = df['Sample Type']\n",
    "sample_info['picard_aggregation_type_validation'] = [picard_aggregation_type_validation] * sample_info.shape[0]\n",
    "sample_info['tumor_subtype'] = df['Tumor Type']\n",
    "sample_info['source_subtype_validation'] = df['Original Material Type']\n",
    "sample_info['processed_subtype_validation'] = df['Material Type']\n",
    "sample_info['primary_disease'] = df['Primary Disease']\n",
    "sample_info['media'] = df['Media on Tube']\n",
    "sample_info['Collection'] = df['Collection']\n",
    "sample_info['tissue_site'] = df['Tissue Site']\n",
    "sample_info['source'] = [source] * sample_info.shape[0]\n",
    "sample_info['sample_id'] = df['sample_id']\n",
    "\n",
    "sample_info = sample_info.set_index('sample_id')"
   ]
  },
  {
   "cell_type": "code",
   "execution_count": null,
   "metadata": {},
   "outputs": [],
   "source": [
    "normals = [r[\"participant\"] for i, r in sample_info.iterrows() if r['sample_type'] == \"Normal\"]\n",
    "tumors = [r[\"participant\"] for i, r in sample_info.iterrows() if r['sample_type'] == \"Tumor\"]\n",
    "prevtumors = [val[\"participant\"] for k, val in refsamples.iterrows() if val.sample_type == \"Tumor\"]\n",
    "prevnormals = [val[\"participant\"] for k, val in refsamples.iterrows() if val.sample_type == \"Normal\"]\n",
    "\n",
    "print(\"creating new pairs\")"
   ]
  },
  {
   "cell_type": "code",
   "execution_count": null,
   "metadata": {},
   "outputs": [],
   "source": [
    "newpairs = {'pair_id': [], 'case_sample': [], 'control_sample': [], 'participant':[]}\n",
    "\n",
    "paired = set(tumors) & set(normals)\n",
    "for val in set(tumors):\n",
    "    for tumor_id in sample_info[sample_info['participant'] == val][sample_info['sample_type'] == 'Tumor'].index.tolist():\n",
    "        normal_id = sample_info[(sample_info['participant'] == val) & (sample_info['sample_type'] == 'Normal')].index.tolist()[0] if val in paired else 'NA'\n",
    "        newpairs['pair_id'].append(tumor_id + \"_\" + normal_id)\n",
    "        newpairs['case_sample'].append(tumor_id)\n",
    "        newpairs['control_sample'].append(normal_id)\n",
    "        newpairs['participant'].append(val)"
   ]
  },
  {
   "cell_type": "code",
   "execution_count": null,
   "metadata": {},
   "outputs": [],
   "source": [
    "sample_info[sample_info['sample_type']=='Tumor']"
   ]
  },
  {
   "cell_type": "code",
   "execution_count": null,
   "metadata": {},
   "outputs": [],
   "source": [
    "\n",
    "toreprocess_normals = set(tumors) & set(prevnormals)\n",
    "for val in toreprocess_normals:\n",
    "    for tumor_id in sample_info[sample_info['participant'] == val][sample_info['sample_type'] == 'Tumor'].index.tolist():\n",
    "        normal_id = refsamples[refsamples['participant'] == val][refsamples['sample_type'] == 'Normal'].index.tolist()[0]\n",
    "        newpairs['pair_id'].append(tumor_id + '_' + normal_id)\n",
    "        newpairs['case_sample'].append(tumor_id)\n",
    "        newpairs['control_sample'].append(normal_id)\n",
    "        newpairs['participant'].append(val)\n",
    "\n",
    "toreprocess_tumors = set(normals) & set(prevtumors)\n",
    "for val in toreprocess_tumors:\n",
    "    for tumor_id in refsamples[refsamples['participant'] == val][refsamples['sample_type'] == 'Tumor'].index.tolist():\n",
    "        normal_id = sample_info[sample_info['participant'] == val][sample_info['sample_type'] == 'Normal'].index.tolist()[0]\n",
    "        newpairs['pair_id'].append(tumor_id + '_' + normal_id)\n",
    "        newpairs['case_sample'].append(tumor_id)\n",
    "        newpairs['control_sample'].append(normal_id)\n",
    "        newpairs['participant'].append(val)\n",
    "\n",
    "paired = set(tumors) & set(normals)\n",
    "for val in set(tumors) - (toreprocess_normals | toreprocess_tumors):\n",
    "    for tumor_id in sample_info[sample_info['participant'] == val][sample_info['sample_type'] == 'Tumor'].index.tolist():\n",
    "        normal_id = sample_info[(sample_info['participant'] == val) & (sample_info['sample_type'] == 'Normal')].index.tolist()[0] if val in paired else None\n",
    "        newpairs['pair_id'].append(tumor_id + \"_\" + normal_id)\n",
    "        newpairs['case_sample'].append(tumor_id)\n",
    "        newpairs['control_sample'].append(normal_id)\n",
    "        newpairs['participant'].append(val)"
   ]
  },
  {
   "cell_type": "code",
   "execution_count": null,
   "metadata": {},
   "outputs": [],
   "source": [
    "wto.upload_samples(sample_info)"
   ]
  },
  {
   "cell_type": "code",
   "execution_count": null,
   "metadata": {},
   "outputs": [],
   "source": [
    "wto.update_sample_set(sample_set_id=samplesetname +\"_tumors\", sample_ids=tumors)\n",
    "#wto.update_sample_set(sample_set_id=samplesetname + \"_normals\", sample_ids=normals)"
   ]
  },
  {
   "cell_type": "code",
   "execution_count": null,
   "metadata": {},
   "outputs": [],
   "source": [
    "wto.update_sample_set(sample_set_id=samplesetname + \"_all\", sample_ids=sample_info.index.values)"
   ]
  },
  {
   "cell_type": "code",
   "execution_count": null,
   "metadata": {},
   "outputs": [],
   "source": [
    "normalsid = [i for i, r in sample_info.iterrows() if r['sample_type'] == \"Normal\"]\n",
    "tumorsid = [i for i, r in sample_info.iterrows() if r['sample_type'] == \"Tumor\"]"
   ]
  },
  {
   "cell_type": "code",
   "execution_count": null,
   "metadata": {},
   "outputs": [],
   "source": [
    "wto.update_sample_set(sample_set_id=samplesetname + \"_tumors\", sample_ids=tumorsid)"
   ]
  },
  {
   "cell_type": "code",
   "execution_count": null,
   "metadata": {},
   "outputs": [],
   "source": [
    "wto.update_sample_set(sample_set_id=samplesetname + \"_normals\", sample_ids=normalsid)"
   ]
  },
  {
   "cell_type": "code",
   "execution_count": null,
   "metadata": {},
   "outputs": [],
   "source": [
    "normalsid.extend([k for k, val in refsamples.iterrows() if val.sample_type == \"Normal\"])"
   ]
  },
  {
   "cell_type": "code",
   "execution_count": null,
   "metadata": {},
   "outputs": [],
   "source": [
    "wto.update_sample_set(sample_set_id=\"All_normals\", sample_ids=normalsid)"
   ]
  },
  {
   "cell_type": "code",
   "execution_count": null,
   "metadata": {},
   "outputs": [],
   "source": [
    "wto.update_sample_set(sample_set_id=\"All_samples\", sample_ids = wto.get_samples().index.tolist())"
   ]
  },
  {
   "cell_type": "code",
   "execution_count": null,
   "metadata": {},
   "outputs": [],
   "source": [
    "newpairs = pd.DataFrame(newpairs).set_index('pair_id')"
   ]
  },
  {
   "cell_type": "code",
   "execution_count": null,
   "metadata": {},
   "outputs": [],
   "source": [
    "newpairs"
   ]
  },
  {
   "cell_type": "code",
   "execution_count": null,
   "metadata": {},
   "outputs": [],
   "source": [
    "wto.upload_entities('pair', newpairs)"
   ]
  },
  {
   "cell_type": "code",
   "execution_count": null,
   "metadata": {},
   "outputs": [],
   "source": [
    "wto.upload_entities('pair_set', newpairs, index=True)"
   ]
  },
  {
   "cell_type": "code",
   "execution_count": null,
   "metadata": {},
   "outputs": [],
   "source": [
    "wto.upload_samples(pd.DataFrame({'sample_id':['NA'],'bam_filename':['NA'],'participant':['NA']}).set_index('sample_id'))"
   ]
  },
  {
   "cell_type": "code",
   "execution_count": null,
   "metadata": {},
   "outputs": [],
   "source": [
    "#print(\"uploading new samples\")\n",
    "wto.upload_samples(sample_info)\n",
    "print(\"creating a sample set\")\n",
    "wto.delete_entity('pair',[ID + '_NA' for ID in toreprocess_tumors])\n",
    "wto.update_sample_set(sample_set_id=samplesetname + \"_all\", sample_ids=sample_info.index.values)\n",
    "wto.update_sample_set(sample_set_id=samplesetname + \"_tumors\", sample_ids=tumors)\n",
    "wto.update_sample_set(sample_set_id=samplesetname + \"_normals\", sample_ids=normals)\n",
    "normals.extend(prevnormals)\n",
    "# Same as cum pon but better\n",
    "wto.update_sample_set(sample_set_id=\"All_normals\", sample_ids=normals)\n",
    "wto.update_sample_set(sample_set_id=\"All_samples\", sample_ids=wto.get_samples().index.tolist())\n",
    "newpairs = pd.DataFrame(newpairs).set_index('pair_id')\n",
    "wto.upload_entities('pair', newpairs)\n",
    "wto.upload_entities('pair_set', newpairs, index=True)"
   ]
  },
  {
   "cell_type": "code",
   "execution_count": null,
   "metadata": {},
   "outputs": [],
   "source": [
    "pd.DataFrame(newpairs).set_index('pair_id')"
   ]
  },
  {
   "cell_type": "code",
   "execution_count": null,
   "metadata": {},
   "outputs": [],
   "source": [
    "metadata['External ID']"
   ]
  },
  {
   "cell_type": "code",
   "execution_count": null,
   "metadata": {},
   "outputs": [],
   "source": [
    "samples1 = wfrom.get_samples().replace(np.nan, '', regex=True)"
   ]
  },
  {
   "cell_type": "code",
   "execution_count": null,
   "metadata": {},
   "outputs": [],
   "source": [
    "samples1.index = [i.split('_')[3] + '_' + i.split('_')[4][:-1] + '-' + replace[i.split('_')[4][-1]] + '-' + i.split('_')[2] for i in samples1.index]"
   ]
  },
  {
   "cell_type": "code",
   "execution_count": null,
   "metadata": {},
   "outputs": [],
   "source": [
    "newsamples = samples1[~samples1.index.isin(refids)]"
   ]
  },
  {
   "cell_type": "code",
   "execution_count": null,
   "metadata": {},
   "outputs": [],
   "source": [
    "newsamples['SM_ID'] = ['SM-'+i.split('-SM-')[-1] for i in newsamples.index]"
   ]
  },
  {
   "cell_type": "code",
   "execution_count": null,
   "metadata": {},
   "outputs": [],
   "source": [
    "metadata['Exported DNA SM-ID']"
   ]
  },
  {
   "cell_type": "code",
   "execution_count": null,
   "metadata": {},
   "outputs": [],
   "source": [
    "tokeep = set(metadata['Exported DNA SM-ID']) &  set(newsamples['SM_ID'])"
   ]
  },
  {
   "cell_type": "code",
   "execution_count": null,
   "metadata": {},
   "outputs": [],
   "source": [
    "newsamples= newsamples[newsamples['SM_ID'].isin(tokeep)]\n",
    "newmetadata = metadata[metadata['Exported DNA SM-ID'].isin(tokeep)]"
   ]
  },
  {
   "cell_type": "code",
   "execution_count": null,
   "metadata": {},
   "outputs": [],
   "source": [
    "newsamples = newsamples.set_index('SM_ID')"
   ]
  },
  {
   "cell_type": "code",
   "execution_count": null,
   "metadata": {},
   "outputs": [],
   "source": [
    "newmetadata = newmetadata.set_index('Exported DNA SM-ID')"
   ]
  },
  {
   "cell_type": "code",
   "execution_count": null,
   "metadata": {},
   "outputs": [],
   "source": [
    "sample_info = newsamples[['crai_or_bai_path','cram_or_bam_path']]\n",
    "sample_info['reference_id'] = newsamples.index\n",
    "sample_info['participant'] = newmetadata['Collaborator Participant ID']\n",
    "sample_info['aggregation_product_name_validation'] = [TSCA_version]* sample_info.shape[0]\n",
    "sample_info['bsp_sample_id_validation'] = newmetadata.index\n",
    "sample_info['stock_sample_id_validation'] = newmetadata['Stock DNA SM-ID']\n",
    "sample_info['sample_type'] = newmetadata['Sample Type']\n",
    "sample_info['picard_aggregation_type_validation'] = [picard_aggregation_type_validation]* sample_info.shape[0]\n",
    "sample_info['tumor_subtype'] = newmetadata['Tumor Type']\n",
    "sample_info['source_subtype_validation'] = newmetadata['Original Material Type']\n",
    "sample_info['processed_subtype_validation'] = newmetadata['Material Type']\n",
    "sample_info['primary_disease'] = newmetadata['Primary Disease']\n",
    "sample_info['media'] = newmetadata['Media on Tube']\n",
    "sample_info['Collection'] = newmetadata['Collection']\n",
    "sample_info['tissue_site'] = newmetadata['Tissue Site']\n",
    "sample_info['source'] = [source] * sample_info.shape[0]\n",
    "sample_info['sample_id'] = newmetadata['sample_id']"
   ]
  },
  {
   "cell_type": "code",
   "execution_count": null,
   "metadata": {},
   "outputs": [],
   "source": [
    "sample_info = sample_info.set_index('sample_id')"
   ]
  },
  {
   "cell_type": "code",
   "execution_count": null,
   "metadata": {},
   "outputs": [],
   "source": [
    "normals = [r[\"participant\"] for i, r in sample_info.iterrows() if r['sample_type'] == \"Normal\"]\n",
    "tumors = [r[\"participant\"] for i, r in sample_info.iterrows() if r['sample_type'] == \"Tumor\"]"
   ]
  },
  {
   "cell_type": "code",
   "execution_count": null,
   "metadata": {},
   "outputs": [],
   "source": [
    "prevtumors = [val[\"participant\"] for k, val in refsamples.iterrows() if val.sample_type ==\"Tumor\"]\n",
    "prevnormals = [val[\"participant\"] for k, val in refsamples.iterrows() if val.sample_type ==\"Normal\"]"
   ]
  },
  {
   "cell_type": "code",
   "execution_count": null,
   "metadata": {},
   "outputs": [],
   "source": [
    "# do we have new tumors/normals for our previous ones\n",
    "newpairs = {'pair_id':[],'tumor_id':[],'normal_id':[]}\n",
    "\n",
    "toreprocess = set(tumors) & set(prevnormals)\n",
    "for val in toreprocess:\n",
    "    for i in sample_info[sample_info['participant']==val][sample_info['sample_type']=='Tumor'].index.values:\n",
    "        newpairs['pair_id'].append(i)\n",
    "        newpairs['tumor_id'].append(i)\n",
    "        newpairs['normal_id'].append(refsamples[refsamples['participant']==val][refsamples['sample_type']=='Normal'].index.values[0])\n",
    "    \n",
    "toreprocess = set(normals) & set(prevtumors)\n",
    "for val in toreprocess:\n",
    "    for i in refsamples[refsamples['participant']==val][refsamples['sample_type']=='Tumor'].index.values:\n",
    "        newpairs['pair_id'].append(i)\n",
    "        newpairs['normal_id'].append(sample_info[sample_info['participant']==val][sample_info['sample_type']=='Normal'].index.values[0])\n",
    "        newpairs['tumor_id'].append(i)\n",
    "\n",
    "paired = set(tumors) & set(normals) \n",
    "for val in paired:\n",
    "    for i in sample_info[sample_info['participant']==val][sample_info['sample_type']=='Tumor'].index.values:\n",
    "        newpairs['pair_id'].append(i)\n",
    "        newpairs['tumor_id'].append(sample_info[sample_info['participant']==val][sample_info['sample_type']=='Tumor'].index.values[0])\n",
    "        newpairs['normal_id'].append(i)"
   ]
  },
  {
   "cell_type": "code",
   "execution_count": null,
   "metadata": {},
   "outputs": [],
   "source": [
    "newpairs = pd.DataFrame(newpairs)"
   ]
  },
  {
   "cell_type": "code",
   "execution_count": null,
   "metadata": {},
   "outputs": [],
   "source": []
  }
 ],
 "metadata": {
  "kernelspec": {
   "display_name": "Python 3",
   "language": "python",
   "name": "python3"
  },
  "language_info": {
   "codemirror_mode": {
    "name": "ipython",
    "version": 3
   },
   "file_extension": ".py",
   "mimetype": "text/x-python",
   "name": "python",
   "nbconvert_exporter": "python",
   "pygments_lexer": "ipython3",
   "version": "3.7.4"
  }
 },
 "nbformat": 4,
 "nbformat_minor": 4
}
