{
 "cells": [
  {
   "cell_type": "code",
   "execution_count": 2,
   "metadata": {},
   "outputs": [
    {
     "ename": "ModuleNotFoundError",
     "evalue": "No module named 'sns'",
     "output_type": "error",
     "traceback": [
      "\u001b[0;31m---------------------------------------------------------------------------\u001b[0m",
      "\u001b[0;31mModuleNotFoundError\u001b[0m                       Traceback (most recent call last)",
      "\u001b[0;32m<ipython-input-2-fcb50e8512e8>\u001b[0m in \u001b[0;36m<module>\u001b[0;34m\u001b[0m\n\u001b[1;32m      1\u001b[0m \u001b[0;32mimport\u001b[0m \u001b[0mpandas\u001b[0m \u001b[0;32mas\u001b[0m \u001b[0mpd\u001b[0m\u001b[0;34m\u001b[0m\u001b[0;34m\u001b[0m\u001b[0m\n\u001b[0;32m----> 2\u001b[0;31m \u001b[0;32mimport\u001b[0m \u001b[0msns\u001b[0m\u001b[0;34m\u001b[0m\u001b[0;34m\u001b[0m\u001b[0m\n\u001b[0m",
      "\u001b[0;31mModuleNotFoundError\u001b[0m: No module named 'sns'"
     ]
    }
   ],
   "source": [
    "import pandas as pd\n",
    "import seaborn as sns\n",
    "import numpy as np"
   ]
  },
  {
   "cell_type": "code",
   "execution_count": 16,
   "metadata": {},
   "outputs": [],
   "source": [
    "a = pd.read_csv('../VPS4A/analysis_scripts/saved.csv', index_col=False)"
   ]
  },
  {
   "cell_type": "code",
   "execution_count": 17,
   "metadata": {},
   "outputs": [],
   "source": [
    "a = a[a.columns[1:]]"
   ]
  },
  {
   "cell_type": "code",
   "execution_count": 20,
   "metadata": {},
   "outputs": [
    {
     "name": "stderr",
     "output_type": "stream",
     "text": [
      "/anaconda3/envs/py36/lib/python3.6/site-packages/ipykernel_launcher.py:2: UserWarning: Boolean Series key will be reindexed to match DataFrame index.\n",
      "  \n"
     ]
    },
    {
     "data": {
      "text/plain": [
       "{'SRR1591964',\n",
       " 'SRR1591966',\n",
       " 'SRR1591967',\n",
       " 'SRR1591968',\n",
       " 'SRR1591969',\n",
       " 'SRR1591970',\n",
       " 'SRR1591972',\n",
       " 'SRR1591973',\n",
       " 'SRR1591974',\n",
       " 'SRR1591975',\n",
       " 'SRR1591976',\n",
       " 'SRR1591977',\n",
       " 'SRR1591978',\n",
       " 'SRR1591979',\n",
       " 'SRR1591980',\n",
       " 'SRR1591981',\n",
       " 'SRR1591997',\n",
       " 'SRR1591999',\n",
       " 'SRR1592000',\n",
       " 'SRR1592001',\n",
       " 'SRR1592002',\n",
       " 'SRR1592003',\n",
       " 'SRR1592004',\n",
       " 'SRR1592005',\n",
       " 'SRR1592006',\n",
       " 'SRR1592007',\n",
       " 'SRR1592008',\n",
       " 'SRR1592009',\n",
       " 'SRR1592010',\n",
       " 'SRR1592011',\n",
       " 'SRR1592012',\n",
       " 'SRR1592014',\n",
       " 'SRR1592015',\n",
       " 'SRR1592019',\n",
       " 'SRR1592021',\n",
       " 'SRR1592022',\n",
       " 'SRR1592024',\n",
       " 'SRR1592025',\n",
       " 'SRR1592026',\n",
       " 'SRR1592027',\n",
       " 'SRR1592028',\n",
       " 'SRR1592029',\n",
       " 'SRR1592031',\n",
       " 'SRR1592032',\n",
       " 'SRR1592033',\n",
       " 'SRR1592035',\n",
       " 'SRR1592036',\n",
       " 'SRR1592037',\n",
       " 'SRR1592038',\n",
       " 'SRR1592039',\n",
       " 'SRR1592040',\n",
       " 'SRR1592041',\n",
       " 'SRR1592042',\n",
       " 'SRR1592043',\n",
       " 'SRR1592044',\n",
       " 'SRR1592046',\n",
       " 'SRR1592047',\n",
       " 'SRR1592048',\n",
       " 'SRR1592049',\n",
       " 'SRR1592053',\n",
       " 'SRR1592055',\n",
       " 'SRR1592056'}"
      ]
     },
     "execution_count": 20,
     "metadata": {},
     "output_type": "execute_result"
    }
   ],
   "source": [
    "pos = 61056423\n",
    "set(a[a['Start']<pos][a['End']>pos].Sample)"
   ]
  },
  {
   "cell_type": "code",
   "execution_count": null,
   "metadata": {},
   "outputs": [],
   "source": []
  }
 ],
 "metadata": {
  "kernelspec": {
   "display_name": "Python 3",
   "language": "python",
   "name": "python3"
  },
  "language_info": {
   "codemirror_mode": {
    "name": "ipython",
    "version": 3
   },
   "file_extension": ".py",
   "mimetype": "text/x-python",
   "name": "python",
   "nbconvert_exporter": "python",
   "pygments_lexer": "ipython3",
   "version": "3.6.7"
  }
 },
 "nbformat": 4,
 "nbformat_minor": 2
}
