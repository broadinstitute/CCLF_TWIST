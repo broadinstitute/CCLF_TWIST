{
 "cells": [
  {
   "cell_type": "code",
   "execution_count": null,
   "metadata": {},
   "outputs": [],
   "source": [
    "from __future__ import print_function\n",
    "import os.path\n",
    "import dalmatian as dm\n",
    "import pandas as pd\n",
    "import sys\n",
    "pathtoJK = \"../JKBio\"\n",
    "sys.path.insert(0, pathtoJK)\n",
    "import TerraFunction as terra\n",
    "from Helper import *\n",
    "import numpy as np\n",
    "from gsheets import Sheets\n",
    "%load_ext autoreload\n",
    "%autoreload 2\n",
    "# https://github.com/jkobject/JKBIO\n",
    "\n",
    "samplesetname=\"trial1\"\n",
    "date=\"2019\"\n",
    "data_namespace=\"broad-genomics-delivery\"\n",
    "data_workspace=\"Cancer_Cell_Line_Factory_CCLF_PanCancer_PanelSeq\"\n",
    "proc_namespace=\"nci-mimoun-bi-org\"\n",
    "proc_workspace=\"PANCAN_TWIST copy\"\n",
    "source=\"CCLF\"\n",
    "TSCA_version=\"TSCA Rapid Cancer Detection Panel v2\"\n",
    "picard_aggregation_type_validation=\"PCR\"\n",
    "forcekeep=[]\n",
    "cohorts2id=\"https://docs.google.com/spreadsheets/d/1R97pgzoX0YClGDr5nmQYQwimnKXxDBGnGzg7YPlhZJU\"\n",
    "gsheeturllist=[\"https://docs.google.com/spreadsheets/d/1LR8OFylVClxf0kmZpAdlVjrn3RBcfZKpNoDYtKdnHB8\", \"https://docs.google.com/spreadsheets/d/128dkFhL1A0GqTjmR7iMvBZE8j6ymO8krBL9WX-wUAn4\"]\n",
    "wfrom = dm.WorkspaceManager(data_namespace, data_workspace)\n",
    "wto = dm.WorkspaceManager(proc_namespace, proc_workspace)"
   ]
  }
 ],
 "metadata": {
  "kernelspec": {
   "display_name": "Python 3",
   "language": "python",
   "name": "python3"
  },
  "language_info": {
   "codemirror_mode": {
    "name": "ipython",
    "version": 3
   },
   "file_extension": ".py",
   "mimetype": "text/x-python",
   "name": "python",
   "nbconvert_exporter": "python",
   "pygments_lexer": "ipython3",
   "version": "3.6.7"
  }
 },
 "nbformat": 4,
 "nbformat_minor": 2
}
